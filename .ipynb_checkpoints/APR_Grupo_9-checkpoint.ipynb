{
 "cells": [
  {
   "cell_type": "markdown",
   "metadata": {
    "id": "jUehXgCyIRdq"
   },
   "source": [
    "# Actividad - Proyecto práctico\n",
    "\n",
    "\n",
    "> La actividad se desarrollará en grupos pre-definidos de 2-3 alumnos. Se debe indicar los nombres en orden alfabético (de apellidos). Recordad que esta actividad se corresponde con un 30% de la nota final de la asignatura. Se debe entregar entregar el trabajo en la presente notebook.\n",
    "*   Alumno 1: Granizo, Mateo\n",
    "*   Alumno 2: Maiolo, Pablo\n",
    "*   Alumno 3: Miglino, Diego\n",
    "\n",
    "\n",
    "\n",
    "\n"
   ]
  },
  {
   "cell_type": "markdown",
   "metadata": {
    "id": "JwpYlnjWJhS9"
   },
   "source": [
    "---\n",
    "## **PARTE 1** - Instalación y requisitos previos\n",
    "\n",
    "> Las prácticas han sido preparadas para poder realizarse en el entorno de trabajo de Google Colab. Sin embargo, esta plataforma presenta ciertas incompatibilidades a la hora de visualizar la renderización en gym. Por ello, para obtener estas visualizaciones, se deberá trasladar el entorno de trabajo a local. Por ello, el presente dosier presenta instrucciones para poder trabajar en ambos entornos. Siga los siguientes pasos para un correcto funcionamiento:\n",
    "1.   **LOCAL:** Preparar el enviroment, siguiendo las intrucciones detalladas en la sección *1.1.Preparar enviroment*.\n",
    "2.  **AMBOS:** Modificar las variables \"mount\" y \"drive_mount\" a la carpeta de trabajo en drive en el caso de estar en Colab, y ejecturar la celda *1.2.Localizar entorno de trabajo*.\n",
    "3. **COLAB:** se deberá ejecutar las celdas correspondientes al montaje de la carpeta de trabajo en Drive. Esta corresponde a la sección *1.3.Montar carpeta de datos local*.\n",
    "4.  **AMBOS:** Instalar las librerías necesarias, siguiendo la sección *1.4.Instalar librerías necesarias*.\n"
   ]
  },
  {
   "cell_type": "markdown",
   "metadata": {
    "id": "RU2BPrK2JkP0"
   },
   "source": [
    "---\n",
    "### 1.1. Preparar enviroment (solo local)\n",
    "\n",
    "\n",
    "\n",
    "> Para preparar el entorno de trabajo en local, se han seguido los siguientes pasos:\n",
    "1. En Windows, puede ser necesario instalar las C++ Build Tools. Para ello, siga los siguientes pasos: https://towardsdatascience.com/how-to-install-openai-gym-in-a-windows-environment-338969e24d30.\n",
    "2. Instalar Anaconda\n",
    "3. Siguiendo el código que se presenta comentado en la próxima celda: Crear un enviroment, cambiar la ruta de trabajo, e instalar librerías básicas.\n",
    "\n",
    "\n",
    "```\n",
    "conda create --name miar_rl python=3.8\n",
    "conda activate miar_rl\n",
    "cd \"PATH_TO_FOLDER\"\n",
    "conda install git\n",
    "pip install jupyter\n",
    "```\n",
    "\n",
    "\n",
    "4. Abrir la notebook con *jupyter-notebook*.\n",
    "\n",
    "\n",
    "\n",
    "```\n",
    "jupyter-notebook\n",
    "```\n"
   ]
  },
  {
   "cell_type": "markdown",
   "metadata": {
    "id": "w-kixNPiJqTc"
   },
   "source": [
    "---\n",
    "### 1.2. Localizar entorno de trabajo: Google colab o local"
   ]
  },
  {
   "cell_type": "code",
   "execution_count": 1,
   "metadata": {
    "colab": {
     "base_uri": "https://localhost:8080/"
    },
    "id": "S_YDFwZ-JscI",
    "outputId": "01a99aa0-3d4e-4cd1-b1bc-309aef65070a"
   },
   "outputs": [
    {
     "name": "stdout",
     "output_type": "stream",
     "text": [
      "False\n"
     ]
    }
   ],
   "source": [
    "# ATENCIÓN!! Modificar ruta relativa a la práctica si es distinta (drive_root)\n",
    "mount='/content/gdrive'\n",
    "drive_root = mount + \"/My Drive/08_MIAR/actividades/TP_Grupal\"\n",
    "mount='./'\n",
    "\n",
    "try:\n",
    "  from google.colab import drive\n",
    "  IN_COLAB=True\n",
    "except:\n",
    "  IN_COLAB=False\n",
    "print(IN_COLAB)"
   ]
  },
  {
   "cell_type": "markdown",
   "metadata": {
    "id": "8Dp_a1iBJ0tf"
   },
   "source": [
    "---\n",
    "### 1.3. Montar carpeta de datos local (solo Colab)"
   ]
  },
  {
   "cell_type": "code",
   "execution_count": 3,
   "metadata": {
    "colab": {
     "base_uri": "https://localhost:8080/"
    },
    "id": "I6n7MIefJ21i",
    "outputId": "9a6fc610-9fb0-4f63-8562-46754d7d75fc"
   },
   "outputs": [
    {
     "name": "stdout",
     "output_type": "stream",
     "text": [
      "Archivos en el directorio: \n",
      "['.git', '.ipynb_checkpoints', '1.22', '23.1.21', 'anaconda_projects', 'apr_g9_dqn_SpaceInvaders-v0_log.json', 'apr_g9_dqn_SpaceInvaders-v0_weights.h5f.data-00000-of-00001', 'apr_g9_dqn_SpaceInvaders-v0_weights.h5f.index', 'APR_Grupo_9.ipynb', 'APR_Grupo_9_callbacks_mini.ipynb', 'APR_Grupo_9_fixed.ipynb', 'APR_Grupo_9_fixed_atari.ipynb', 'APR_Grupo_9_fixed_callbacks.ipynb', 'APR_Grupo_9_fixed_max.ipynb', 'APR_Grupo_9_fixed_ultimate.ipynb', 'APR_Grupo_9_fixed_ultimate_combined.ipynb', 'APR_Grupo_9_fixed_ultimate_part1.ipynb', 'APR_Grupo_9_fixed_ultimate_part2.ipynb', 'APR_Grupo_9_fixed_ultimate_part3.ipynb', 'APR_Grupo_9_pab.ipynb', 'APR_Grupo_9_simple_env.ipynb', 'APR_Grupo_9_ultimate.ipynb', 'APR_Grupo_9_ultimate_combined.ipynb', 'APR_Grupo_9_ultimate_part1.ipynb', 'APR_Grupo_9_ultimate_part2.ipynb', 'APR_Grupo_9_ultimate_part3.ipynb', 'arreglar_atari_roms.bat', 'atari-py', 'checkpoint', 'combine.py', 'combine_fixed_notebooks.ps1', 'combine_notebooks.bat', 'combine_notebooks.ps1', 'combine_notebooks.py', 'dqn_CartPole-v1_log.json', 'dqn_CartPole-v1_weights.h5f.data-00000-of-00001', 'dqn_CartPole-v1_weights.h5f.index', 'dqn_CartPole-v1_weights_1000.h5f.data-00000-of-00001', 'dqn_CartPole-v1_weights_1000.h5f.index', 'dqn_CartPole-v1_weights_10000.h5f.data-00000-of-00001', 'dqn_CartPole-v1_weights_10000.h5f.index', 'dqn_CartPole-v1_weights_11000.h5f.data-00000-of-00001', 'dqn_CartPole-v1_weights_11000.h5f.index', 'dqn_CartPole-v1_weights_12000.h5f.data-00000-of-00001', 'dqn_CartPole-v1_weights_12000.h5f.index', 'dqn_CartPole-v1_weights_13000.h5f.data-00000-of-00001', 'dqn_CartPole-v1_weights_13000.h5f.index', 'dqn_CartPole-v1_weights_14000.h5f.data-00000-of-00001', 'dqn_CartPole-v1_weights_14000.h5f.index', 'dqn_CartPole-v1_weights_15000.h5f.data-00000-of-00001', 'dqn_CartPole-v1_weights_15000.h5f.index', 'dqn_CartPole-v1_weights_16000.h5f.data-00000-of-00001', 'dqn_CartPole-v1_weights_16000.h5f.index', 'dqn_CartPole-v1_weights_17000.h5f.data-00000-of-00001', 'dqn_CartPole-v1_weights_17000.h5f.index', 'dqn_CartPole-v1_weights_18000.h5f.data-00000-of-00001', 'dqn_CartPole-v1_weights_18000.h5f.index', 'dqn_CartPole-v1_weights_19000.h5f.data-00000-of-00001', 'dqn_CartPole-v1_weights_19000.h5f.index', 'dqn_CartPole-v1_weights_2000.h5f.data-00000-of-00001', 'dqn_CartPole-v1_weights_2000.h5f.index', 'dqn_CartPole-v1_weights_20000.h5f.data-00000-of-00001', 'dqn_CartPole-v1_weights_20000.h5f.index', 'dqn_CartPole-v1_weights_21000.h5f.data-00000-of-00001', 'dqn_CartPole-v1_weights_21000.h5f.index', 'dqn_CartPole-v1_weights_22000.h5f.data-00000-of-00001', 'dqn_CartPole-v1_weights_22000.h5f.index', 'dqn_CartPole-v1_weights_23000.h5f.data-00000-of-00001', 'dqn_CartPole-v1_weights_23000.h5f.index', 'dqn_CartPole-v1_weights_24000.h5f.data-00000-of-00001', 'dqn_CartPole-v1_weights_24000.h5f.index', 'dqn_CartPole-v1_weights_25000.h5f.data-00000-of-00001', 'dqn_CartPole-v1_weights_25000.h5f.index', 'dqn_CartPole-v1_weights_26000.h5f.data-00000-of-00001', 'dqn_CartPole-v1_weights_26000.h5f.index', 'dqn_CartPole-v1_weights_27000.h5f.data-00000-of-00001', 'dqn_CartPole-v1_weights_27000.h5f.index', 'dqn_CartPole-v1_weights_28000.h5f.data-00000-of-00001', 'dqn_CartPole-v1_weights_28000.h5f.index', 'dqn_CartPole-v1_weights_29000.h5f.data-00000-of-00001', 'dqn_CartPole-v1_weights_29000.h5f.index', 'dqn_CartPole-v1_weights_3000.h5f.data-00000-of-00001', 'dqn_CartPole-v1_weights_3000.h5f.index', 'dqn_CartPole-v1_weights_30000.h5f.data-00000-of-00001', 'dqn_CartPole-v1_weights_30000.h5f.index', 'dqn_CartPole-v1_weights_31000.h5f.data-00000-of-00001', 'dqn_CartPole-v1_weights_31000.h5f.index', 'dqn_CartPole-v1_weights_32000.h5f.data-00000-of-00001', 'dqn_CartPole-v1_weights_32000.h5f.index', 'dqn_CartPole-v1_weights_33000.h5f.data-00000-of-00001', 'dqn_CartPole-v1_weights_33000.h5f.index', 'dqn_CartPole-v1_weights_34000.h5f.data-00000-of-00001', 'dqn_CartPole-v1_weights_34000.h5f.index', 'dqn_CartPole-v1_weights_35000.h5f.data-00000-of-00001', 'dqn_CartPole-v1_weights_35000.h5f.index', 'dqn_CartPole-v1_weights_36000.h5f.data-00000-of-00001', 'dqn_CartPole-v1_weights_36000.h5f.index', 'dqn_CartPole-v1_weights_37000.h5f.data-00000-of-00001', 'dqn_CartPole-v1_weights_37000.h5f.index', 'dqn_CartPole-v1_weights_38000.h5f.data-00000-of-00001', 'dqn_CartPole-v1_weights_38000.h5f.index', 'dqn_CartPole-v1_weights_39000.h5f.data-00000-of-00001', 'dqn_CartPole-v1_weights_39000.h5f.index', 'dqn_CartPole-v1_weights_4000.h5f.data-00000-of-00001', 'dqn_CartPole-v1_weights_4000.h5f.index', 'dqn_CartPole-v1_weights_40000.h5f.data-00000-of-00001', 'dqn_CartPole-v1_weights_40000.h5f.index', 'dqn_CartPole-v1_weights_41000.h5f.data-00000-of-00001', 'dqn_CartPole-v1_weights_41000.h5f.index', 'dqn_CartPole-v1_weights_42000.h5f.data-00000-of-00001', 'dqn_CartPole-v1_weights_42000.h5f.index', 'dqn_CartPole-v1_weights_43000.h5f.data-00000-of-00001', 'dqn_CartPole-v1_weights_43000.h5f.index', 'dqn_CartPole-v1_weights_44000.h5f.data-00000-of-00001', 'dqn_CartPole-v1_weights_44000.h5f.index', 'dqn_CartPole-v1_weights_45000.h5f.data-00000-of-00001', 'dqn_CartPole-v1_weights_45000.h5f.index', 'dqn_CartPole-v1_weights_46000.h5f.data-00000-of-00001', 'dqn_CartPole-v1_weights_46000.h5f.index', 'dqn_CartPole-v1_weights_47000.h5f.data-00000-of-00001', 'dqn_CartPole-v1_weights_47000.h5f.index', 'dqn_CartPole-v1_weights_48000.h5f.data-00000-of-00001', 'dqn_CartPole-v1_weights_48000.h5f.index', 'dqn_CartPole-v1_weights_49000.h5f.data-00000-of-00001', 'dqn_CartPole-v1_weights_49000.h5f.index', 'dqn_CartPole-v1_weights_5000.h5f.data-00000-of-00001', 'dqn_CartPole-v1_weights_5000.h5f.index', 'dqn_CartPole-v1_weights_50000.h5f.data-00000-of-00001', 'dqn_CartPole-v1_weights_50000.h5f.index', 'dqn_CartPole-v1_weights_6000.h5f.data-00000-of-00001', 'dqn_CartPole-v1_weights_6000.h5f.index', 'dqn_CartPole-v1_weights_7000.h5f.data-00000-of-00001', 'dqn_CartPole-v1_weights_7000.h5f.index', 'dqn_CartPole-v1_weights_8000.h5f.data-00000-of-00001', 'dqn_CartPole-v1_weights_8000.h5f.index', 'dqn_CartPole-v1_weights_9000.h5f.data-00000-of-00001', 'dqn_CartPole-v1_weights_9000.h5f.index', 'environment.yml', 'fix_atari_roms.py', 'instalar_atari.bat', 'instalar_atari_conda.bat', 'instalar_gym_basico.bat', 'instalar_gym_basico.py', 'install_atari.py', 'install_atari_cell.py', 'INSTRUCCIONES.txt', 'mi_entorno', 'README.md', 'tensorflow_env', 'validate_notebook.py']\n"
     ]
    }
   ],
   "source": [
    "# Switch to the directory on the Google Drive that you want to use\n",
    "import os\n",
    "if IN_COLAB:\n",
    "  print(\"We're running Colab\")\n",
    "\n",
    "  if IN_COLAB:\n",
    "    # Mount the Google Drive at mount\n",
    "    print(\"Colab: mounting Google drive on \", mount)\n",
    "\n",
    "    drive.mount(mount)\n",
    "\n",
    "    # Create drive_root if it doesn't exist\n",
    "    create_drive_root = True\n",
    "    if create_drive_root:\n",
    "      print(\"\\nColab: making sure \", drive_root, \" exists.\")\n",
    "      os.makedirs(drive_root, exist_ok=True)\n",
    "\n",
    "    # Change to the directory\n",
    "    print(\"\\nColab: Changing directory to \", drive_root)\n",
    "    %cd $drive_root\n",
    "# Verify we're in the correct working directory\n",
    "%pwd\n",
    "print(\"Archivos en el directorio: \")\n",
    "print(os.listdir())"
   ]
  },
  {
   "cell_type": "markdown",
   "metadata": {
    "id": "i1ZSL5bpJ560"
   },
   "source": [
    "---\n",
    "### 1.4. Instalar librerías necesarias"
   ]
  },
  {
   "cell_type": "code",
   "execution_count": 8,
   "metadata": {
    "colab": {
     "base_uri": "https://localhost:8080/",
     "height": 1000
    },
    "id": "UbVRjvHCJ8UF",
    "outputId": "fe539761-ae1b-4e9f-95de-9a3cfa9ae8bc"
   },
   "outputs": [
    {
     "name": "stdout",
     "output_type": "stream",
     "text": [
      "Requirement already satisfied: gym==0.17.3 in c:\\users\\pablo_maiolo\\anaconda3\\envs\\miar_rl\\lib\\site-packages (0.17.3)\n",
      "Requirement already satisfied: scipy in c:\\users\\pablo_maiolo\\anaconda3\\envs\\miar_rl\\lib\\site-packages (from gym==0.17.3) (1.10.1)\n",
      "Requirement already satisfied: numpy>=1.10.4 in c:\\users\\pablo_maiolo\\anaconda3\\envs\\miar_rl\\lib\\site-packages (from gym==0.17.3) (1.19.5)\n",
      "Requirement already satisfied: pyglet<=1.5.0,>=1.4.0 in c:\\users\\pablo_maiolo\\anaconda3\\envs\\miar_rl\\lib\\site-packages (from gym==0.17.3) (1.5.0)\n",
      "Requirement already satisfied: cloudpickle<1.7.0,>=1.2.0 in c:\\users\\pablo_maiolo\\anaconda3\\envs\\miar_rl\\lib\\site-packages (from gym==0.17.3) (1.6.0)\n",
      "Requirement already satisfied: future in c:\\users\\pablo_maiolo\\anaconda3\\envs\\miar_rl\\lib\\site-packages (from pyglet<=1.5.0,>=1.4.0->gym==0.17.3) (1.0.0)\n",
      "Note: you may need to restart the kernel to use updated packages.\n",
      "Collecting git+https://github.com/Kojoley/atari-py.gitNote: you may need to restart the kernel to use updated packages.\n",
      "\n",
      "  Cloning https://github.com/Kojoley/atari-py.git to c:\\users\\pablo_maiolo\\appdata\\local\\temp\\2\\pip-req-build-6hd409e5\n",
      "  Resolved https://github.com/Kojoley/atari-py.git to commit 86a1e05c0a95e9e6233c3a413521fdb34ca8a089\n",
      "  Preparing metadata (setup.py): started\n",
      "  Preparing metadata (setup.py): finished with status 'done'\n",
      "Requirement already satisfied: numpy in c:\\users\\pablo_maiolo\\anaconda3\\envs\\miar_rl\\lib\\site-packages (from atari-py==1.2.2) (1.19.5)\n",
      "Building wheels for collected packages: atari-py\n",
      "  Building wheel for atari-py (setup.py): started\n",
      "  Building wheel for atari-py (setup.py): finished with status 'error'\n",
      "  Running setup.py clean for atari-py\n",
      "Failed to build atari-py\n"
     ]
    },
    {
     "name": "stderr",
     "output_type": "stream",
     "text": [
      "  Running command git clone --filter=blob:none --quiet https://github.com/Kojoley/atari-py.git 'C:\\Users\\pablo_maiolo\\AppData\\Local\\Temp\\2\\pip-req-build-6hd409e5'\n",
      "  error: subprocess-exited-with-error\n",
      "  \n",
      "  × python setup.py bdist_wheel did not run successfully.\n",
      "  │ exit code: 1\n",
      "  ╰─> [75 lines of output]\n",
      "      c:\\Users\\pablo_maiolo\\anaconda3\\envs\\miar_rl\\lib\\site-packages\\setuptools\\_distutils\\dist.py:261: UserWarning: Unknown distribution option: 'tests_require'\n",
      "        warnings.warn(msg)\n",
      "      running bdist_wheel\n",
      "      running build\n",
      "      running build_py\n",
      "      creating build\\lib.win-amd64-cpython-38\\atari_py\n",
      "      copying atari_py\\ale_python_interface.py -> build\\lib.win-amd64-cpython-38\\atari_py\n",
      "      copying atari_py\\__init__.py -> build\\lib.win-amd64-cpython-38\\atari_py\n",
      "      creating build\\lib.win-amd64-cpython-38\\atari_py\\atari_roms\n",
      "      copying atari_py\\atari_roms\\adventure.bin -> build\\lib.win-amd64-cpython-38\\atari_py\\atari_roms\n",
      "      copying atari_py\\atari_roms\\air_raid.bin -> build\\lib.win-amd64-cpython-38\\atari_py\\atari_roms\n",
      "      copying atari_py\\atari_roms\\alien.bin -> build\\lib.win-amd64-cpython-38\\atari_py\\atari_roms\n",
      "      copying atari_py\\atari_roms\\amidar.bin -> build\\lib.win-amd64-cpython-38\\atari_py\\atari_roms\n",
      "      copying atari_py\\atari_roms\\assault.bin -> build\\lib.win-amd64-cpython-38\\atari_py\\atari_roms\n",
      "      copying atari_py\\atari_roms\\asterix.bin -> build\\lib.win-amd64-cpython-38\\atari_py\\atari_roms\n",
      "      copying atari_py\\atari_roms\\asteroids.bin -> build\\lib.win-amd64-cpython-38\\atari_py\\atari_roms\n",
      "      copying atari_py\\atari_roms\\atlantis.bin -> build\\lib.win-amd64-cpython-38\\atari_py\\atari_roms\n",
      "      copying atari_py\\atari_roms\\bank_heist.bin -> build\\lib.win-amd64-cpython-38\\atari_py\\atari_roms\n",
      "      copying atari_py\\atari_roms\\battle_zone.bin -> build\\lib.win-amd64-cpython-38\\atari_py\\atari_roms\n",
      "      copying atari_py\\atari_roms\\beam_rider.bin -> build\\lib.win-amd64-cpython-38\\atari_py\\atari_roms\n",
      "      copying atari_py\\atari_roms\\berzerk.bin -> build\\lib.win-amd64-cpython-38\\atari_py\\atari_roms\n",
      "      copying atari_py\\atari_roms\\bowling.bin -> build\\lib.win-amd64-cpython-38\\atari_py\\atari_roms\n",
      "      copying atari_py\\atari_roms\\boxing.bin -> build\\lib.win-amd64-cpython-38\\atari_py\\atari_roms\n",
      "      copying atari_py\\atari_roms\\breakout.bin -> build\\lib.win-amd64-cpython-38\\atari_py\\atari_roms\n",
      "      copying atari_py\\atari_roms\\carnival.bin -> build\\lib.win-amd64-cpython-38\\atari_py\\atari_roms\n",
      "      copying atari_py\\atari_roms\\centipede.bin -> build\\lib.win-amd64-cpython-38\\atari_py\\atari_roms\n",
      "      copying atari_py\\atari_roms\\chopper_command.bin -> build\\lib.win-amd64-cpython-38\\atari_py\\atari_roms\n",
      "      copying atari_py\\atari_roms\\crazy_climber.bin -> build\\lib.win-amd64-cpython-38\\atari_py\\atari_roms\n",
      "      copying atari_py\\atari_roms\\defender.bin -> build\\lib.win-amd64-cpython-38\\atari_py\\atari_roms\n",
      "      copying atari_py\\atari_roms\\demon_attack.bin -> build\\lib.win-amd64-cpython-38\\atari_py\\atari_roms\n",
      "      copying atari_py\\atari_roms\\double_dunk.bin -> build\\lib.win-amd64-cpython-38\\atari_py\\atari_roms\n",
      "      copying atari_py\\atari_roms\\elevator_action.bin -> build\\lib.win-amd64-cpython-38\\atari_py\\atari_roms\n",
      "      copying atari_py\\atari_roms\\enduro.bin -> build\\lib.win-amd64-cpython-38\\atari_py\\atari_roms\n",
      "      copying atari_py\\atari_roms\\fishing_derby.bin -> build\\lib.win-amd64-cpython-38\\atari_py\\atari_roms\n",
      "      copying atari_py\\atari_roms\\freeway.bin -> build\\lib.win-amd64-cpython-38\\atari_py\\atari_roms\n",
      "      copying atari_py\\atari_roms\\frostbite.bin -> build\\lib.win-amd64-cpython-38\\atari_py\\atari_roms\n",
      "      copying atari_py\\atari_roms\\gopher.bin -> build\\lib.win-amd64-cpython-38\\atari_py\\atari_roms\n",
      "      copying atari_py\\atari_roms\\gravitar.bin -> build\\lib.win-amd64-cpython-38\\atari_py\\atari_roms\n",
      "      copying atari_py\\atari_roms\\hero.bin -> build\\lib.win-amd64-cpython-38\\atari_py\\atari_roms\n",
      "      copying atari_py\\atari_roms\\ice_hockey.bin -> build\\lib.win-amd64-cpython-38\\atari_py\\atari_roms\n",
      "      copying atari_py\\atari_roms\\jamesbond.bin -> build\\lib.win-amd64-cpython-38\\atari_py\\atari_roms\n",
      "      copying atari_py\\atari_roms\\journey_escape.bin -> build\\lib.win-amd64-cpython-38\\atari_py\\atari_roms\n",
      "      copying atari_py\\atari_roms\\kaboom.bin -> build\\lib.win-amd64-cpython-38\\atari_py\\atari_roms\n",
      "      copying atari_py\\atari_roms\\kangaroo.bin -> build\\lib.win-amd64-cpython-38\\atari_py\\atari_roms\n",
      "      copying atari_py\\atari_roms\\krull.bin -> build\\lib.win-amd64-cpython-38\\atari_py\\atari_roms\n",
      "      copying atari_py\\atari_roms\\kung_fu_master.bin -> build\\lib.win-amd64-cpython-38\\atari_py\\atari_roms\n",
      "      copying atari_py\\atari_roms\\montezuma_revenge.bin -> build\\lib.win-amd64-cpython-38\\atari_py\\atari_roms\n",
      "      copying atari_py\\atari_roms\\ms_pacman.bin -> build\\lib.win-amd64-cpython-38\\atari_py\\atari_roms\n",
      "      copying atari_py\\atari_roms\\name_this_game.bin -> build\\lib.win-amd64-cpython-38\\atari_py\\atari_roms\n",
      "      copying atari_py\\atari_roms\\phoenix.bin -> build\\lib.win-amd64-cpython-38\\atari_py\\atari_roms\n",
      "      copying atari_py\\atari_roms\\pitfall.bin -> build\\lib.win-amd64-cpython-38\\atari_py\\atari_roms\n",
      "      copying atari_py\\atari_roms\\pong.bin -> build\\lib.win-amd64-cpython-38\\atari_py\\atari_roms\n",
      "      copying atari_py\\atari_roms\\pooyan.bin -> build\\lib.win-amd64-cpython-38\\atari_py\\atari_roms\n",
      "      copying atari_py\\atari_roms\\private_eye.bin -> build\\lib.win-amd64-cpython-38\\atari_py\\atari_roms\n",
      "      copying atari_py\\atari_roms\\qbert.bin -> build\\lib.win-amd64-cpython-38\\atari_py\\atari_roms\n",
      "      copying atari_py\\atari_roms\\riverraid.bin -> build\\lib.win-amd64-cpython-38\\atari_py\\atari_roms\n",
      "      copying atari_py\\atari_roms\\road_runner.bin -> build\\lib.win-amd64-cpython-38\\atari_py\\atari_roms\n",
      "      copying atari_py\\atari_roms\\robotank.bin -> build\\lib.win-amd64-cpython-38\\atari_py\\atari_roms\n",
      "      copying atari_py\\atari_roms\\seaquest.bin -> build\\lib.win-amd64-cpython-38\\atari_py\\atari_roms\n",
      "      copying atari_py\\atari_roms\\skiing.bin -> build\\lib.win-amd64-cpython-38\\atari_py\\atari_roms\n",
      "      copying atari_py\\atari_roms\\solaris.bin -> build\\lib.win-amd64-cpython-38\\atari_py\\atari_roms\n",
      "      copying atari_py\\atari_roms\\space_invaders.bin -> build\\lib.win-amd64-cpython-38\\atari_py\\atari_roms\n",
      "      copying atari_py\\atari_roms\\star_gunner.bin -> build\\lib.win-amd64-cpython-38\\atari_py\\atari_roms\n",
      "      copying atari_py\\atari_roms\\tennis.bin -> build\\lib.win-amd64-cpython-38\\atari_py\\atari_roms\n",
      "      copying atari_py\\atari_roms\\time_pilot.bin -> build\\lib.win-amd64-cpython-38\\atari_py\\atari_roms\n",
      "      copying atari_py\\atari_roms\\tutankham.bin -> build\\lib.win-amd64-cpython-38\\atari_py\\atari_roms\n",
      "      copying atari_py\\atari_roms\\up_n_down.bin -> build\\lib.win-amd64-cpython-38\\atari_py\\atari_roms\n",
      "      copying atari_py\\atari_roms\\venture.bin -> build\\lib.win-amd64-cpython-38\\atari_py\\atari_roms\n",
      "      copying atari_py\\atari_roms\\video_pinball.bin -> build\\lib.win-amd64-cpython-38\\atari_py\\atari_roms\n",
      "      copying atari_py\\atari_roms\\wizard_of_wor.bin -> build\\lib.win-amd64-cpython-38\\atari_py\\atari_roms\n",
      "      copying atari_py\\atari_roms\\yars_revenge.bin -> build\\lib.win-amd64-cpython-38\\atari_py\\atari_roms\n",
      "      copying atari_py\\atari_roms\\zaxxon.bin -> build\\lib.win-amd64-cpython-38\\atari_py\\atari_roms\n",
      "      running build_ext\n",
      "      building 'ale_c' extension\n",
      "      error: Microsoft Visual C++ 14.0 or greater is required. Get it with \"Microsoft C++ Build Tools\": https://visualstudio.microsoft.com/visual-cpp-build-tools/\n",
      "      [end of output]\n",
      "  \n",
      "  note: This error originates from a subprocess, and is likely not a problem with pip.\n",
      "  ERROR: Failed building wheel for atari-py\n",
      "ERROR: ERROR: Failed to build installable wheels for some pyproject.toml based projects (atari-py)\n"
     ]
    },
    {
     "name": "stdout",
     "output_type": "stream",
     "text": [
      "Requirement already satisfied: pyglet==1.5.0 in c:\\users\\pablo_maiolo\\anaconda3\\envs\\miar_rl\\lib\\site-packages (1.5.0)\n",
      "Requirement already satisfied: future in c:\\users\\pablo_maiolo\\anaconda3\\envs\\miar_rl\\lib\\site-packages (from pyglet==1.5.0) (1.0.0)\n",
      "Note: you may need to restart the kernel to use updated packages.\n",
      "Requirement already satisfied: h5py==3.1.0 in c:\\users\\pablo_maiolo\\anaconda3\\envs\\miar_rl\\lib\\site-packages (3.1.0)\n",
      "Requirement already satisfied: numpy>=1.17.5 in c:\\users\\pablo_maiolo\\anaconda3\\envs\\miar_rl\\lib\\site-packages (from h5py==3.1.0) (1.19.5)\n",
      "Note: you may need to restart the kernel to use updated packages.\n",
      "Requirement already satisfied: Pillow==9.5.0 in c:\\users\\pablo_maiolo\\anaconda3\\envs\\miar_rl\\lib\\site-packages (9.5.0)\n",
      "Note: you may need to restart the kernel to use updated packages.\n",
      "Requirement already satisfied: keras-rl2==1.0.5 in c:\\users\\pablo_maiolo\\anaconda3\\envs\\miar_rl\\lib\\site-packages (1.0.5)\n",
      "Requirement already satisfied: tensorflow in c:\\users\\pablo_maiolo\\anaconda3\\envs\\miar_rl\\lib\\site-packages (from keras-rl2==1.0.5) (2.5.3)\n",
      "Requirement already satisfied: numpy~=1.19.2 in c:\\users\\pablo_maiolo\\anaconda3\\envs\\miar_rl\\lib\\site-packages (from tensorflow->keras-rl2==1.0.5) (1.19.5)\n",
      "Requirement already satisfied: absl-py~=0.10 in c:\\users\\pablo_maiolo\\anaconda3\\envs\\miar_rl\\lib\\site-packages (from tensorflow->keras-rl2==1.0.5) (0.15.0)\n",
      "Requirement already satisfied: astunparse~=1.6.3 in c:\\users\\pablo_maiolo\\anaconda3\\envs\\miar_rl\\lib\\site-packages (from tensorflow->keras-rl2==1.0.5) (1.6.3)\n",
      "Requirement already satisfied: flatbuffers~=1.12.0 in c:\\users\\pablo_maiolo\\anaconda3\\envs\\miar_rl\\lib\\site-packages (from tensorflow->keras-rl2==1.0.5) (1.12)\n",
      "Requirement already satisfied: google-pasta~=0.2 in c:\\users\\pablo_maiolo\\anaconda3\\envs\\miar_rl\\lib\\site-packages (from tensorflow->keras-rl2==1.0.5) (0.2.0)\n",
      "Requirement already satisfied: h5py~=3.1.0 in c:\\users\\pablo_maiolo\\anaconda3\\envs\\miar_rl\\lib\\site-packages (from tensorflow->keras-rl2==1.0.5) (3.1.0)\n",
      "Requirement already satisfied: keras-preprocessing~=1.1.2 in c:\\users\\pablo_maiolo\\anaconda3\\envs\\miar_rl\\lib\\site-packages (from tensorflow->keras-rl2==1.0.5) (1.1.2)\n",
      "Requirement already satisfied: opt-einsum~=3.3.0 in c:\\users\\pablo_maiolo\\anaconda3\\envs\\miar_rl\\lib\\site-packages (from tensorflow->keras-rl2==1.0.5) (3.3.0)\n",
      "Requirement already satisfied: protobuf>=3.9.2 in c:\\users\\pablo_maiolo\\anaconda3\\envs\\miar_rl\\lib\\site-packages (from tensorflow->keras-rl2==1.0.5) (3.20.3)\n",
      "Requirement already satisfied: six~=1.15.0 in c:\\users\\pablo_maiolo\\anaconda3\\envs\\miar_rl\\lib\\site-packages (from tensorflow->keras-rl2==1.0.5) (1.15.0)\n",
      "Requirement already satisfied: termcolor~=1.1.0 in c:\\users\\pablo_maiolo\\anaconda3\\envs\\miar_rl\\lib\\site-packages (from tensorflow->keras-rl2==1.0.5) (1.1.0)\n",
      "Requirement already satisfied: typing-extensions~=3.7.4 in c:\\users\\pablo_maiolo\\anaconda3\\envs\\miar_rl\\lib\\site-packages (from tensorflow->keras-rl2==1.0.5) (3.7.4.3)\n",
      "Requirement already satisfied: wheel~=0.35 in c:\\users\\pablo_maiolo\\anaconda3\\envs\\miar_rl\\lib\\site-packages (from tensorflow->keras-rl2==1.0.5) (0.44.0)\n",
      "Requirement already satisfied: wrapt~=1.12.1 in c:\\users\\pablo_maiolo\\anaconda3\\envs\\miar_rl\\lib\\site-packages (from tensorflow->keras-rl2==1.0.5) (1.12.1)\n",
      "Requirement already satisfied: gast==0.4.0 in c:\\users\\pablo_maiolo\\anaconda3\\envs\\miar_rl\\lib\\site-packages (from tensorflow->keras-rl2==1.0.5) (0.4.0)\n",
      "Requirement already satisfied: tensorboard~=2.5 in c:\\users\\pablo_maiolo\\anaconda3\\envs\\miar_rl\\lib\\site-packages (from tensorflow->keras-rl2==1.0.5) (2.11.2)\n",
      "Requirement already satisfied: tensorflow-estimator<2.6.0,>=2.5.0 in c:\\users\\pablo_maiolo\\anaconda3\\envs\\miar_rl\\lib\\site-packages (from tensorflow->keras-rl2==1.0.5) (2.5.0)\n",
      "Requirement already satisfied: keras-nightly~=2.5.0.dev in c:\\users\\pablo_maiolo\\anaconda3\\envs\\miar_rl\\lib\\site-packages (from tensorflow->keras-rl2==1.0.5) (2.5.0.dev2021032900)\n",
      "Requirement already satisfied: grpcio~=1.34.0 in c:\\users\\pablo_maiolo\\anaconda3\\envs\\miar_rl\\lib\\site-packages (from tensorflow->keras-rl2==1.0.5) (1.34.1)\n",
      "Requirement already satisfied: google-auth<3,>=1.6.3 in c:\\users\\pablo_maiolo\\anaconda3\\envs\\miar_rl\\lib\\site-packages (from tensorboard~=2.5->tensorflow->keras-rl2==1.0.5) (2.40.3)\n",
      "Requirement already satisfied: google-auth-oauthlib<0.5,>=0.4.1 in c:\\users\\pablo_maiolo\\anaconda3\\envs\\miar_rl\\lib\\site-packages (from tensorboard~=2.5->tensorflow->keras-rl2==1.0.5) (0.4.6)\n",
      "Requirement already satisfied: markdown>=2.6.8 in c:\\users\\pablo_maiolo\\anaconda3\\envs\\miar_rl\\lib\\site-packages (from tensorboard~=2.5->tensorflow->keras-rl2==1.0.5) (3.7)\n",
      "Requirement already satisfied: requests<3,>=2.21.0 in c:\\users\\pablo_maiolo\\anaconda3\\envs\\miar_rl\\lib\\site-packages (from tensorboard~=2.5->tensorflow->keras-rl2==1.0.5) (2.32.4)\n",
      "Requirement already satisfied: setuptools>=41.0.0 in c:\\users\\pablo_maiolo\\anaconda3\\envs\\miar_rl\\lib\\site-packages (from tensorboard~=2.5->tensorflow->keras-rl2==1.0.5) (75.1.0)\n",
      "Requirement already satisfied: tensorboard-data-server<0.7.0,>=0.6.0 in c:\\users\\pablo_maiolo\\anaconda3\\envs\\miar_rl\\lib\\site-packages (from tensorboard~=2.5->tensorflow->keras-rl2==1.0.5) (0.6.1)\n",
      "Requirement already satisfied: tensorboard-plugin-wit>=1.6.0 in c:\\users\\pablo_maiolo\\anaconda3\\envs\\miar_rl\\lib\\site-packages (from tensorboard~=2.5->tensorflow->keras-rl2==1.0.5) (1.8.1)\n",
      "Requirement already satisfied: werkzeug>=1.0.1 in c:\\users\\pablo_maiolo\\anaconda3\\envs\\miar_rl\\lib\\site-packages (from tensorboard~=2.5->tensorflow->keras-rl2==1.0.5) (3.0.6)\n",
      "Requirement already satisfied: cachetools<6.0,>=2.0.0 in c:\\users\\pablo_maiolo\\anaconda3\\envs\\miar_rl\\lib\\site-packages (from google-auth<3,>=1.6.3->tensorboard~=2.5->tensorflow->keras-rl2==1.0.5) (5.5.2)\n",
      "Requirement already satisfied: pyasn1-modules>=0.2.1 in c:\\users\\pablo_maiolo\\anaconda3\\envs\\miar_rl\\lib\\site-packages (from google-auth<3,>=1.6.3->tensorboard~=2.5->tensorflow->keras-rl2==1.0.5) (0.4.2)\n",
      "Requirement already satisfied: rsa<5,>=3.1.4 in c:\\users\\pablo_maiolo\\anaconda3\\envs\\miar_rl\\lib\\site-packages (from google-auth<3,>=1.6.3->tensorboard~=2.5->tensorflow->keras-rl2==1.0.5) (4.9.1)\n",
      "Requirement already satisfied: requests-oauthlib>=0.7.0 in c:\\users\\pablo_maiolo\\anaconda3\\envs\\miar_rl\\lib\\site-packages (from google-auth-oauthlib<0.5,>=0.4.1->tensorboard~=2.5->tensorflow->keras-rl2==1.0.5) (2.0.0)\n",
      "Requirement already satisfied: importlib-metadata>=4.4 in c:\\users\\pablo_maiolo\\anaconda3\\envs\\miar_rl\\lib\\site-packages (from markdown>=2.6.8->tensorboard~=2.5->tensorflow->keras-rl2==1.0.5) (8.5.0)\n",
      "Requirement already satisfied: charset_normalizer<4,>=2 in c:\\users\\pablo_maiolo\\anaconda3\\envs\\miar_rl\\lib\\site-packages (from requests<3,>=2.21.0->tensorboard~=2.5->tensorflow->keras-rl2==1.0.5) (3.4.2)\n",
      "Requirement already satisfied: idna<4,>=2.5 in c:\\users\\pablo_maiolo\\anaconda3\\envs\\miar_rl\\lib\\site-packages (from requests<3,>=2.21.0->tensorboard~=2.5->tensorflow->keras-rl2==1.0.5) (3.10)\n",
      "Requirement already satisfied: urllib3<3,>=1.21.1 in c:\\users\\pablo_maiolo\\anaconda3\\envs\\miar_rl\\lib\\site-packages (from requests<3,>=2.21.0->tensorboard~=2.5->tensorflow->keras-rl2==1.0.5) (2.2.3)\n",
      "Requirement already satisfied: certifi>=2017.4.17 in c:\\users\\pablo_maiolo\\anaconda3\\envs\\miar_rl\\lib\\site-packages (from requests<3,>=2.21.0->tensorboard~=2.5->tensorflow->keras-rl2==1.0.5) (2025.6.15)\n",
      "Requirement already satisfied: MarkupSafe>=2.1.1 in c:\\users\\pablo_maiolo\\anaconda3\\envs\\miar_rl\\lib\\site-packages (from werkzeug>=1.0.1->tensorboard~=2.5->tensorflow->keras-rl2==1.0.5) (2.1.5)\n",
      "Requirement already satisfied: zipp>=3.20 in c:\\users\\pablo_maiolo\\anaconda3\\envs\\miar_rl\\lib\\site-packages (from importlib-metadata>=4.4->markdown>=2.6.8->tensorboard~=2.5->tensorflow->keras-rl2==1.0.5) (3.21.0)\n",
      "Requirement already satisfied: pyasn1<0.7.0,>=0.6.1 in c:\\users\\pablo_maiolo\\anaconda3\\envs\\miar_rl\\lib\\site-packages (from pyasn1-modules>=0.2.1->google-auth<3,>=1.6.3->tensorboard~=2.5->tensorflow->keras-rl2==1.0.5) (0.6.1)\n",
      "Requirement already satisfied: oauthlib>=3.0.0 in c:\\users\\pablo_maiolo\\anaconda3\\envs\\miar_rl\\lib\\site-packages (from requests-oauthlib>=0.7.0->google-auth-oauthlib<0.5,>=0.4.1->tensorboard~=2.5->tensorflow->keras-rl2==1.0.5) (3.3.1)\n",
      "Note: you may need to restart the kernel to use updated packages.\n",
      "Requirement already satisfied: Keras==2.2.4 in c:\\users\\pablo_maiolo\\anaconda3\\envs\\miar_rl\\lib\\site-packages (2.2.4)Note: you may need to restart the kernel to use updated packages.\n",
      "\n",
      "Requirement already satisfied: numpy>=1.9.1 in c:\\users\\pablo_maiolo\\anaconda3\\envs\\miar_rl\\lib\\site-packages (from Keras==2.2.4) (1.19.5)\n",
      "Requirement already satisfied: scipy>=0.14 in c:\\users\\pablo_maiolo\\anaconda3\\envs\\miar_rl\\lib\\site-packages (from Keras==2.2.4) (1.10.1)\n",
      "Requirement already satisfied: six>=1.9.0 in c:\\users\\pablo_maiolo\\anaconda3\\envs\\miar_rl\\lib\\site-packages (from Keras==2.2.4) (1.15.0)\n",
      "Requirement already satisfied: pyyaml in c:\\users\\pablo_maiolo\\anaconda3\\envs\\miar_rl\\lib\\site-packages (from Keras==2.2.4) (6.0.2)\n",
      "Requirement already satisfied: h5py in c:\\users\\pablo_maiolo\\anaconda3\\envs\\miar_rl\\lib\\site-packages (from Keras==2.2.4) (3.1.0)\n",
      "Requirement already satisfied: keras-applications>=1.0.6 in c:\\users\\pablo_maiolo\\anaconda3\\envs\\miar_rl\\lib\\site-packages (from Keras==2.2.4) (1.0.8)\n",
      "Requirement already satisfied: keras-preprocessing>=1.0.5 in c:\\users\\pablo_maiolo\\anaconda3\\envs\\miar_rl\\lib\\site-packages (from Keras==2.2.4) (1.1.2)\n",
      "Requirement already satisfied: tensorflow==2.5.3 in c:\\users\\pablo_maiolo\\anaconda3\\envs\\miar_rl\\lib\\site-packages (2.5.3)\n",
      "Requirement already satisfied: numpy~=1.19.2 in c:\\users\\pablo_maiolo\\anaconda3\\envs\\miar_rl\\lib\\site-packages (from tensorflow==2.5.3) (1.19.5)\n",
      "Requirement already satisfied: absl-py~=0.10 in c:\\users\\pablo_maiolo\\anaconda3\\envs\\miar_rl\\lib\\site-packages (from tensorflow==2.5.3) (0.15.0)\n",
      "Requirement already satisfied: astunparse~=1.6.3 in c:\\users\\pablo_maiolo\\anaconda3\\envs\\miar_rl\\lib\\site-packages (from tensorflow==2.5.3) (1.6.3)\n",
      "Requirement already satisfied: flatbuffers~=1.12.0 in c:\\users\\pablo_maiolo\\anaconda3\\envs\\miar_rl\\lib\\site-packages (from tensorflow==2.5.3) (1.12)\n",
      "Requirement already satisfied: google-pasta~=0.2 in c:\\users\\pablo_maiolo\\anaconda3\\envs\\miar_rl\\lib\\site-packages (from tensorflow==2.5.3) (0.2.0)\n",
      "Requirement already satisfied: h5py~=3.1.0 in c:\\users\\pablo_maiolo\\anaconda3\\envs\\miar_rl\\lib\\site-packages (from tensorflow==2.5.3) (3.1.0)\n",
      "Requirement already satisfied: keras-preprocessing~=1.1.2 in c:\\users\\pablo_maiolo\\anaconda3\\envs\\miar_rl\\lib\\site-packages (from tensorflow==2.5.3) (1.1.2)\n",
      "Requirement already satisfied: opt-einsum~=3.3.0 in c:\\users\\pablo_maiolo\\anaconda3\\envs\\miar_rl\\lib\\site-packages (from tensorflow==2.5.3) (3.3.0)\n",
      "Requirement already satisfied: protobuf>=3.9.2 in c:\\users\\pablo_maiolo\\anaconda3\\envs\\miar_rl\\lib\\site-packages (from tensorflow==2.5.3) (3.20.3)\n",
      "Requirement already satisfied: six~=1.15.0 in c:\\users\\pablo_maiolo\\anaconda3\\envs\\miar_rl\\lib\\site-packages (from tensorflow==2.5.3) (1.15.0)\n",
      "Requirement already satisfied: termcolor~=1.1.0 in c:\\users\\pablo_maiolo\\anaconda3\\envs\\miar_rl\\lib\\site-packages (from tensorflow==2.5.3) (1.1.0)\n",
      "Requirement already satisfied: typing-extensions~=3.7.4 in c:\\users\\pablo_maiolo\\anaconda3\\envs\\miar_rl\\lib\\site-packages (from tensorflow==2.5.3) (3.7.4.3)\n",
      "Requirement already satisfied: wheel~=0.35 in c:\\users\\pablo_maiolo\\anaconda3\\envs\\miar_rl\\lib\\site-packages (from tensorflow==2.5.3) (0.44.0)\n",
      "Requirement already satisfied: wrapt~=1.12.1 in c:\\users\\pablo_maiolo\\anaconda3\\envs\\miar_rl\\lib\\site-packages (from tensorflow==2.5.3) (1.12.1)\n",
      "Requirement already satisfied: gast==0.4.0 in c:\\users\\pablo_maiolo\\anaconda3\\envs\\miar_rl\\lib\\site-packages (from tensorflow==2.5.3) (0.4.0)\n",
      "Requirement already satisfied: tensorboard~=2.5 in c:\\users\\pablo_maiolo\\anaconda3\\envs\\miar_rl\\lib\\site-packages (from tensorflow==2.5.3) (2.11.2)\n",
      "Requirement already satisfied: tensorflow-estimator<2.6.0,>=2.5.0 in c:\\users\\pablo_maiolo\\anaconda3\\envs\\miar_rl\\lib\\site-packages (from tensorflow==2.5.3) (2.5.0)\n",
      "Requirement already satisfied: keras-nightly~=2.5.0.dev in c:\\users\\pablo_maiolo\\anaconda3\\envs\\miar_rl\\lib\\site-packages (from tensorflow==2.5.3) (2.5.0.dev2021032900)\n",
      "Requirement already satisfied: grpcio~=1.34.0 in c:\\users\\pablo_maiolo\\anaconda3\\envs\\miar_rl\\lib\\site-packages (from tensorflow==2.5.3) (1.34.1)\n",
      "Requirement already satisfied: google-auth<3,>=1.6.3 in c:\\users\\pablo_maiolo\\anaconda3\\envs\\miar_rl\\lib\\site-packages (from tensorboard~=2.5->tensorflow==2.5.3) (2.40.3)\n",
      "Requirement already satisfied: google-auth-oauthlib<0.5,>=0.4.1 in c:\\users\\pablo_maiolo\\anaconda3\\envs\\miar_rl\\lib\\site-packages (from tensorboard~=2.5->tensorflow==2.5.3) (0.4.6)\n",
      "Requirement already satisfied: markdown>=2.6.8 in c:\\users\\pablo_maiolo\\anaconda3\\envs\\miar_rl\\lib\\site-packages (from tensorboard~=2.5->tensorflow==2.5.3) (3.7)\n",
      "Requirement already satisfied: requests<3,>=2.21.0 in c:\\users\\pablo_maiolo\\anaconda3\\envs\\miar_rl\\lib\\site-packages (from tensorboard~=2.5->tensorflow==2.5.3) (2.32.4)\n",
      "Requirement already satisfied: setuptools>=41.0.0 in c:\\users\\pablo_maiolo\\anaconda3\\envs\\miar_rl\\lib\\site-packages (from tensorboard~=2.5->tensorflow==2.5.3) (75.1.0)\n",
      "Requirement already satisfied: tensorboard-data-server<0.7.0,>=0.6.0 in c:\\users\\pablo_maiolo\\anaconda3\\envs\\miar_rl\\lib\\site-packages (from tensorboard~=2.5->tensorflow==2.5.3) (0.6.1)\n",
      "Requirement already satisfied: tensorboard-plugin-wit>=1.6.0 in c:\\users\\pablo_maiolo\\anaconda3\\envs\\miar_rl\\lib\\site-packages (from tensorboard~=2.5->tensorflow==2.5.3) (1.8.1)\n",
      "Requirement already satisfied: werkzeug>=1.0.1 in c:\\users\\pablo_maiolo\\anaconda3\\envs\\miar_rl\\lib\\site-packages (from tensorboard~=2.5->tensorflow==2.5.3) (3.0.6)\n",
      "Requirement already satisfied: cachetools<6.0,>=2.0.0 in c:\\users\\pablo_maiolo\\anaconda3\\envs\\miar_rl\\lib\\site-packages (from google-auth<3,>=1.6.3->tensorboard~=2.5->tensorflow==2.5.3) (5.5.2)\n",
      "Requirement already satisfied: pyasn1-modules>=0.2.1 in c:\\users\\pablo_maiolo\\anaconda3\\envs\\miar_rl\\lib\\site-packages (from google-auth<3,>=1.6.3->tensorboard~=2.5->tensorflow==2.5.3) (0.4.2)\n",
      "Requirement already satisfied: rsa<5,>=3.1.4 in c:\\users\\pablo_maiolo\\anaconda3\\envs\\miar_rl\\lib\\site-packages (from google-auth<3,>=1.6.3->tensorboard~=2.5->tensorflow==2.5.3) (4.9.1)\n",
      "Requirement already satisfied: requests-oauthlib>=0.7.0 in c:\\users\\pablo_maiolo\\anaconda3\\envs\\miar_rl\\lib\\site-packages (from google-auth-oauthlib<0.5,>=0.4.1->tensorboard~=2.5->tensorflow==2.5.3) (2.0.0)\n",
      "Requirement already satisfied: importlib-metadata>=4.4 in c:\\users\\pablo_maiolo\\anaconda3\\envs\\miar_rl\\lib\\site-packages (from markdown>=2.6.8->tensorboard~=2.5->tensorflow==2.5.3) (8.5.0)\n",
      "Requirement already satisfied: charset_normalizer<4,>=2 in c:\\users\\pablo_maiolo\\anaconda3\\envs\\miar_rl\\lib\\site-packages (from requests<3,>=2.21.0->tensorboard~=2.5->tensorflow==2.5.3) (3.4.2)\n",
      "Requirement already satisfied: idna<4,>=2.5 in c:\\users\\pablo_maiolo\\anaconda3\\envs\\miar_rl\\lib\\site-packages (from requests<3,>=2.21.0->tensorboard~=2.5->tensorflow==2.5.3) (3.10)\n",
      "Requirement already satisfied: urllib3<3,>=1.21.1 in c:\\users\\pablo_maiolo\\anaconda3\\envs\\miar_rl\\lib\\site-packages (from requests<3,>=2.21.0->tensorboard~=2.5->tensorflow==2.5.3) (2.2.3)\n",
      "Requirement already satisfied: certifi>=2017.4.17 in c:\\users\\pablo_maiolo\\anaconda3\\envs\\miar_rl\\lib\\site-packages (from requests<3,>=2.21.0->tensorboard~=2.5->tensorflow==2.5.3) (2025.6.15)\n",
      "Requirement already satisfied: MarkupSafe>=2.1.1 in c:\\users\\pablo_maiolo\\anaconda3\\envs\\miar_rl\\lib\\site-packages (from werkzeug>=1.0.1->tensorboard~=2.5->tensorflow==2.5.3) (2.1.5)\n",
      "Requirement already satisfied: zipp>=3.20 in c:\\users\\pablo_maiolo\\anaconda3\\envs\\miar_rl\\lib\\site-packages (from importlib-metadata>=4.4->markdown>=2.6.8->tensorboard~=2.5->tensorflow==2.5.3) (3.21.0)\n",
      "Requirement already satisfied: pyasn1<0.7.0,>=0.6.1 in c:\\users\\pablo_maiolo\\anaconda3\\envs\\miar_rl\\lib\\site-packages (from pyasn1-modules>=0.2.1->google-auth<3,>=1.6.3->tensorboard~=2.5->tensorflow==2.5.3) (0.6.1)\n",
      "Requirement already satisfied: oauthlib>=3.0.0 in c:\\users\\pablo_maiolo\\anaconda3\\envs\\miar_rl\\lib\\site-packages (from requests-oauthlib>=0.7.0->google-auth-oauthlib<0.5,>=0.4.1->tensorboard~=2.5->tensorflow==2.5.3) (3.3.1)\n",
      "Note: you may need to restart the kernel to use updated packages.\n",
      "Requirement already satisfied: torch==2.0.1 in c:\\users\\pablo_maiolo\\anaconda3\\envs\\miar_rl\\lib\\site-packages (2.0.1)Note: you may need to restart the kernel to use updated packages.\n",
      "\n",
      "Requirement already satisfied: filelock in c:\\users\\pablo_maiolo\\anaconda3\\envs\\miar_rl\\lib\\site-packages (from torch==2.0.1) (3.16.1)\n",
      "Requirement already satisfied: typing-extensions in c:\\users\\pablo_maiolo\\anaconda3\\envs\\miar_rl\\lib\\site-packages (from torch==2.0.1) (3.7.4.3)\n",
      "Requirement already satisfied: sympy in c:\\users\\pablo_maiolo\\anaconda3\\envs\\miar_rl\\lib\\site-packages (from torch==2.0.1) (1.13.3)\n",
      "Requirement already satisfied: networkx in c:\\users\\pablo_maiolo\\anaconda3\\envs\\miar_rl\\lib\\site-packages (from torch==2.0.1) (3.1)\n",
      "Requirement already satisfied: jinja2 in c:\\users\\pablo_maiolo\\anaconda3\\envs\\miar_rl\\lib\\site-packages (from torch==2.0.1) (3.1.6)\n",
      "Requirement already satisfied: MarkupSafe>=2.0 in c:\\users\\pablo_maiolo\\anaconda3\\envs\\miar_rl\\lib\\site-packages (from jinja2->torch==2.0.1) (2.1.5)\n",
      "Requirement already satisfied: mpmath<1.4,>=1.1.0 in c:\\users\\pablo_maiolo\\anaconda3\\envs\\miar_rl\\lib\\site-packages (from sympy->torch==2.0.1) (1.3.0)\n",
      "Requirement already satisfied: agents==1.4.0 in c:\\users\\pablo_maiolo\\anaconda3\\envs\\miar_rl\\lib\\site-packages (1.4.0)\n",
      "Requirement already satisfied: tensorflow in c:\\users\\pablo_maiolo\\anaconda3\\envs\\miar_rl\\lib\\site-packages (from agents==1.4.0) (2.5.3)\n",
      "Requirement already satisfied: gym in c:\\users\\pablo_maiolo\\anaconda3\\envs\\miar_rl\\lib\\site-packages (from agents==1.4.0) (0.17.3)\n",
      "Requirement already satisfied: ruamel.yaml in c:\\users\\pablo_maiolo\\anaconda3\\envs\\miar_rl\\lib\\site-packages (from agents==1.4.0) (0.18.14)\n",
      "Requirement already satisfied: scipy in c:\\users\\pablo_maiolo\\anaconda3\\envs\\miar_rl\\lib\\site-packages (from gym->agents==1.4.0) (1.10.1)\n",
      "Requirement already satisfied: numpy>=1.10.4 in c:\\users\\pablo_maiolo\\anaconda3\\envs\\miar_rl\\lib\\site-packages (from gym->agents==1.4.0) (1.19.5)\n",
      "Requirement already satisfied: pyglet<=1.5.0,>=1.4.0 in c:\\users\\pablo_maiolo\\anaconda3\\envs\\miar_rl\\lib\\site-packages (from gym->agents==1.4.0) (1.5.0)\n",
      "Requirement already satisfied: cloudpickle<1.7.0,>=1.2.0 in c:\\users\\pablo_maiolo\\anaconda3\\envs\\miar_rl\\lib\\site-packages (from gym->agents==1.4.0) (1.6.0)\n",
      "Requirement already satisfied: ruamel.yaml.clib>=0.2.7 in c:\\users\\pablo_maiolo\\anaconda3\\envs\\miar_rl\\lib\\site-packages (from ruamel.yaml->agents==1.4.0) (0.2.8)\n",
      "Requirement already satisfied: absl-py~=0.10 in c:\\users\\pablo_maiolo\\anaconda3\\envs\\miar_rl\\lib\\site-packages (from tensorflow->agents==1.4.0) (0.15.0)\n",
      "Requirement already satisfied: astunparse~=1.6.3 in c:\\users\\pablo_maiolo\\anaconda3\\envs\\miar_rl\\lib\\site-packages (from tensorflow->agents==1.4.0) (1.6.3)\n",
      "Requirement already satisfied: flatbuffers~=1.12.0 in c:\\users\\pablo_maiolo\\anaconda3\\envs\\miar_rl\\lib\\site-packages (from tensorflow->agents==1.4.0) (1.12)\n",
      "Requirement already satisfied: google-pasta~=0.2 in c:\\users\\pablo_maiolo\\anaconda3\\envs\\miar_rl\\lib\\site-packages (from tensorflow->agents==1.4.0) (0.2.0)\n",
      "Requirement already satisfied: h5py~=3.1.0 in c:\\users\\pablo_maiolo\\anaconda3\\envs\\miar_rl\\lib\\site-packages (from tensorflow->agents==1.4.0) (3.1.0)\n",
      "Requirement already satisfied: keras-preprocessing~=1.1.2 in c:\\users\\pablo_maiolo\\anaconda3\\envs\\miar_rl\\lib\\site-packages (from tensorflow->agents==1.4.0) (1.1.2)\n",
      "Requirement already satisfied: opt-einsum~=3.3.0 in c:\\users\\pablo_maiolo\\anaconda3\\envs\\miar_rl\\lib\\site-packages (from tensorflow->agents==1.4.0) (3.3.0)\n",
      "Requirement already satisfied: protobuf>=3.9.2 in c:\\users\\pablo_maiolo\\anaconda3\\envs\\miar_rl\\lib\\site-packages (from tensorflow->agents==1.4.0) (3.20.3)\n",
      "Requirement already satisfied: six~=1.15.0 in c:\\users\\pablo_maiolo\\anaconda3\\envs\\miar_rl\\lib\\site-packages (from tensorflow->agents==1.4.0) (1.15.0)\n",
      "Requirement already satisfied: termcolor~=1.1.0 in c:\\users\\pablo_maiolo\\anaconda3\\envs\\miar_rl\\lib\\site-packages (from tensorflow->agents==1.4.0) (1.1.0)\n",
      "Requirement already satisfied: typing-extensions~=3.7.4 in c:\\users\\pablo_maiolo\\anaconda3\\envs\\miar_rl\\lib\\site-packages (from tensorflow->agents==1.4.0) (3.7.4.3)\n",
      "Requirement already satisfied: wheel~=0.35 in c:\\users\\pablo_maiolo\\anaconda3\\envs\\miar_rl\\lib\\site-packages (from tensorflow->agents==1.4.0) (0.44.0)\n",
      "Requirement already satisfied: wrapt~=1.12.1 in c:\\users\\pablo_maiolo\\anaconda3\\envs\\miar_rl\\lib\\site-packages (from tensorflow->agents==1.4.0) (1.12.1)\n",
      "Requirement already satisfied: gast==0.4.0 in c:\\users\\pablo_maiolo\\anaconda3\\envs\\miar_rl\\lib\\site-packages (from tensorflow->agents==1.4.0) (0.4.0)\n",
      "Requirement already satisfied: tensorboard~=2.5 in c:\\users\\pablo_maiolo\\anaconda3\\envs\\miar_rl\\lib\\site-packages (from tensorflow->agents==1.4.0) (2.11.2)\n",
      "Requirement already satisfied: tensorflow-estimator<2.6.0,>=2.5.0 in c:\\users\\pablo_maiolo\\anaconda3\\envs\\miar_rl\\lib\\site-packages (from tensorflow->agents==1.4.0) (2.5.0)\n",
      "Requirement already satisfied: keras-nightly~=2.5.0.dev in c:\\users\\pablo_maiolo\\anaconda3\\envs\\miar_rl\\lib\\site-packages (from tensorflow->agents==1.4.0) (2.5.0.dev2021032900)\n",
      "Requirement already satisfied: grpcio~=1.34.0 in c:\\users\\pablo_maiolo\\anaconda3\\envs\\miar_rl\\lib\\site-packages (from tensorflow->agents==1.4.0) (1.34.1)\n",
      "Requirement already satisfied: future in c:\\users\\pablo_maiolo\\anaconda3\\envs\\miar_rl\\lib\\site-packages (from pyglet<=1.5.0,>=1.4.0->gym->agents==1.4.0) (1.0.0)\n",
      "Requirement already satisfied: google-auth<3,>=1.6.3 in c:\\users\\pablo_maiolo\\anaconda3\\envs\\miar_rl\\lib\\site-packages (from tensorboard~=2.5->tensorflow->agents==1.4.0) (2.40.3)\n",
      "Requirement already satisfied: google-auth-oauthlib<0.5,>=0.4.1 in c:\\users\\pablo_maiolo\\anaconda3\\envs\\miar_rl\\lib\\site-packages (from tensorboard~=2.5->tensorflow->agents==1.4.0) (0.4.6)\n",
      "Requirement already satisfied: markdown>=2.6.8 in c:\\users\\pablo_maiolo\\anaconda3\\envs\\miar_rl\\lib\\site-packages (from tensorboard~=2.5->tensorflow->agents==1.4.0) (3.7)\n",
      "Requirement already satisfied: requests<3,>=2.21.0 in c:\\users\\pablo_maiolo\\anaconda3\\envs\\miar_rl\\lib\\site-packages (from tensorboard~=2.5->tensorflow->agents==1.4.0) (2.32.4)\n",
      "Requirement already satisfied: setuptools>=41.0.0 in c:\\users\\pablo_maiolo\\anaconda3\\envs\\miar_rl\\lib\\site-packages (from tensorboard~=2.5->tensorflow->agents==1.4.0) (75.1.0)\n",
      "Requirement already satisfied: tensorboard-data-server<0.7.0,>=0.6.0 in c:\\users\\pablo_maiolo\\anaconda3\\envs\\miar_rl\\lib\\site-packages (from tensorboard~=2.5->tensorflow->agents==1.4.0) (0.6.1)\n",
      "Requirement already satisfied: tensorboard-plugin-wit>=1.6.0 in c:\\users\\pablo_maiolo\\anaconda3\\envs\\miar_rl\\lib\\site-packages (from tensorboard~=2.5->tensorflow->agents==1.4.0) (1.8.1)\n",
      "Requirement already satisfied: werkzeug>=1.0.1 in c:\\users\\pablo_maiolo\\anaconda3\\envs\\miar_rl\\lib\\site-packages (from tensorboard~=2.5->tensorflow->agents==1.4.0) (3.0.6)\n",
      "Requirement already satisfied: cachetools<6.0,>=2.0.0 in c:\\users\\pablo_maiolo\\anaconda3\\envs\\miar_rl\\lib\\site-packages (from google-auth<3,>=1.6.3->tensorboard~=2.5->tensorflow->agents==1.4.0) (5.5.2)\n",
      "Requirement already satisfied: pyasn1-modules>=0.2.1 in c:\\users\\pablo_maiolo\\anaconda3\\envs\\miar_rl\\lib\\site-packages (from google-auth<3,>=1.6.3->tensorboard~=2.5->tensorflow->agents==1.4.0) (0.4.2)\n",
      "Requirement already satisfied: rsa<5,>=3.1.4 in c:\\users\\pablo_maiolo\\anaconda3\\envs\\miar_rl\\lib\\site-packages (from google-auth<3,>=1.6.3->tensorboard~=2.5->tensorflow->agents==1.4.0) (4.9.1)\n",
      "Requirement already satisfied: requests-oauthlib>=0.7.0 in c:\\users\\pablo_maiolo\\anaconda3\\envs\\miar_rl\\lib\\site-packages (from google-auth-oauthlib<0.5,>=0.4.1->tensorboard~=2.5->tensorflow->agents==1.4.0) (2.0.0)\n",
      "Requirement already satisfied: importlib-metadata>=4.4 in c:\\users\\pablo_maiolo\\anaconda3\\envs\\miar_rl\\lib\\site-packages (from markdown>=2.6.8->tensorboard~=2.5->tensorflow->agents==1.4.0) (8.5.0)\n",
      "Requirement already satisfied: charset_normalizer<4,>=2 in c:\\users\\pablo_maiolo\\anaconda3\\envs\\miar_rl\\lib\\site-packages (from requests<3,>=2.21.0->tensorboard~=2.5->tensorflow->agents==1.4.0) (3.4.2)\n",
      "Requirement already satisfied: idna<4,>=2.5 in c:\\users\\pablo_maiolo\\anaconda3\\envs\\miar_rl\\lib\\site-packages (from requests<3,>=2.21.0->tensorboard~=2.5->tensorflow->agents==1.4.0) (3.10)\n",
      "Requirement already satisfied: urllib3<3,>=1.21.1 in c:\\users\\pablo_maiolo\\anaconda3\\envs\\miar_rl\\lib\\site-packages (from requests<3,>=2.21.0->tensorboard~=2.5->tensorflow->agents==1.4.0) (2.2.3)\n",
      "Requirement already satisfied: certifi>=2017.4.17 in c:\\users\\pablo_maiolo\\anaconda3\\envs\\miar_rl\\lib\\site-packages (from requests<3,>=2.21.0->tensorboard~=2.5->tensorflow->agents==1.4.0) (2025.6.15)\n",
      "Requirement already satisfied: MarkupSafe>=2.1.1 in c:\\users\\pablo_maiolo\\anaconda3\\envs\\miar_rl\\lib\\site-packages (from werkzeug>=1.0.1->tensorboard~=2.5->tensorflow->agents==1.4.0) (2.1.5)\n",
      "Requirement already satisfied: zipp>=3.20 in c:\\users\\pablo_maiolo\\anaconda3\\envs\\miar_rl\\lib\\site-packages (from importlib-metadata>=4.4->markdown>=2.6.8->tensorboard~=2.5->tensorflow->agents==1.4.0) (3.21.0)\n",
      "Requirement already satisfied: pyasn1<0.7.0,>=0.6.1 in c:\\users\\pablo_maiolo\\anaconda3\\envs\\miar_rl\\lib\\site-packages (from pyasn1-modules>=0.2.1->google-auth<3,>=1.6.3->tensorboard~=2.5->tensorflow->agents==1.4.0) (0.6.1)\n",
      "Requirement already satisfied: oauthlib>=3.0.0 in c:\\users\\pablo_maiolo\\anaconda3\\envs\\miar_rl\\lib\\site-packages (from requests-oauthlib>=0.7.0->google-auth-oauthlib<0.5,>=0.4.1->tensorboard~=2.5->tensorflow->agents==1.4.0) (3.3.1)\n",
      "Note: you may need to restart the kernel to use updated packages.\n"
     ]
    }
   ],
   "source": [
    "# ejecutar solo la primera vez..\n",
    "\n",
    "if IN_COLAB:\n",
    "  %pip install gym==0.17.3\n",
    "  %pip install git+https://github.com/Kojoley/atari-py.git\n",
    "  %pip install keras-rl2==1.0.5\n",
    "  %pip install tensorflow==2.12\n",
    "else:\n",
    "  %pip install gym==0.17.3\n",
    "  %pip install git+https://github.com/Kojoley/atari-py.git\n",
    "  %pip install pyglet==1.5.0\n",
    "  %pip install h5py==3.1.0\n",
    "  %pip install Pillow==9.5.0\n",
    "  %pip install keras-rl2==1.0.5\n",
    "  %pip install Keras==2.2.4\n",
    "  %pip install tensorflow==2.5.3\n",
    "  %pip install torch==2.0.1\n",
    "  %pip install agents==1.4.0"
   ]
  },
  {
   "cell_type": "markdown",
   "metadata": {
    "id": "4hzP_5ZuGb2X"
   },
   "source": [
    "---\n",
    "## **PARTE 2**. Enunciado\n",
    "\n",
    "Consideraciones a tener en cuenta:\n",
    "\n",
    "- El entorno sobre el que trabajaremos será _SpaceInvaders-v0_ y el algoritmo que usaremos será _DQN_.\n",
    "\n",
    "- Para nuestro ejercicio, el requisito mínimo será alcanzado cuando el agente consiga una **media de recompensa por encima de 20 puntos en modo test**. Por ello, esta media de la recompensa se calculará a partir del código de test en la última celda del notebook.\n",
    "\n",
    "Este proyecto práctico consta de tres partes:\n",
    "\n",
    "1.   Implementar la red neuronal que se usará en la solución\n",
    "2.   Implementar las distintas piezas de la solución DQN\n",
    "3.   Justificar la respuesta en relación a los resultados obtenidos\n",
    "\n",
    "**Rúbrica**: Se valorará la originalidad en la solución aportada, así como la capacidad de discutir los resultados de forma detallada. El requisito mínimo servirá para aprobar la actividad, bajo premisa de que la discusión del resultado sera apropiada.\n",
    "\n",
    "IMPORTANTE:\n",
    "\n",
    "* Si no se consigue una puntuación óptima, responder sobre la mejor puntuación obtenida.\n",
    "* Para entrenamientos largos, recordad que podéis usar checkpoints de vuestros modelos para retomar los entrenamientos. En este caso, recordad cambiar los parámetros adecuadamente (sobre todo los relacionados con el proceso de exploración).\n",
    "* Se deberá entregar unicamente el notebook y los pesos del mejor modelo en un fichero .zip, de forma organizada.\n",
    "* Cada alumno deberá de subir la solución de forma individual."
   ]
  },
  {
   "cell_type": "markdown",
   "metadata": {
    "id": "6_b3mzw8IzJP"
   },
   "source": [
    "---\n",
    "## **PARTE 3**. Desarrollo y preguntas"
   ]
  },
  {
   "cell_type": "markdown",
   "metadata": {
    "id": "duPmUNOVGb2a"
   },
   "source": [
    "#### Importar librerías"
   ]
  },
  {
   "cell_type": "code",
   "execution_count": 4,
   "metadata": {
    "id": "j3eRhgI-Gb2a"
   },
   "outputs": [
    {
     "name": "stderr",
     "output_type": "stream",
     "text": [
      "C:\\Users\\pablo_maiolo\\anaconda3\\envs\\miar_rl_3\\lib\\site-packages\\requests\\__init__.py:86: RequestsDependencyWarning: Unable to find acceptable character detection dependency (chardet or charset_normalizer).\n",
      "  warnings.warn(\n"
     ]
    }
   ],
   "source": [
    "from __future__ import division\n",
    "\n",
    "from PIL import Image\n",
    "import numpy as np\n",
    "import gym\n",
    "\n",
    "from tensorflow.keras.models import Sequential\n",
    "from tensorflow.keras.layers import Dense, Activation, Flatten, Convolution2D, Permute\n",
    "from tensorflow.keras.optimizers import Adam\n",
    "import tensorflow.keras.backend as K\n",
    "\n",
    "from rl.agents.dqn import DQNAgent\n",
    "from rl.policy import LinearAnnealedPolicy, BoltzmannQPolicy, EpsGreedyQPolicy\n",
    "from rl.memory import SequentialMemory\n",
    "from rl.core import Processor\n",
    "from rl.callbacks import FileLogger, ModelIntervalCheckpoint"
   ]
  },
  {
   "cell_type": "markdown",
   "metadata": {
    "id": "f4jgQjzoGb2a"
   },
   "source": [
    "#### Configuración base"
   ]
  },
  {
   "cell_type": "code",
   "execution_count": 5,
   "metadata": {
    "colab": {
     "base_uri": "https://localhost:8080/"
    },
    "id": "jwOE6I_KGb2a",
    "outputId": "941f9c3a-e542-42e6-bd55-a097f9b71828"
   },
   "outputs": [
    {
     "name": "stdout",
     "output_type": "stream",
     "text": [
      "Numero de acciones disponibles: 6\n",
      "Formato de las observaciones: Box(0, 255, (210, 160, 3), uint8)\n"
     ]
    }
   ],
   "source": [
    "INPUT_SHAPE = (84, 84)\n",
    "WINDOW_LENGTH = 1\n",
    "\n",
    "env_name = 'SpaceInvaders-v0'\n",
    "env = gym.make(env_name)\n",
    "\n",
    "np.random.seed(123)\n",
    "env.seed(123)\n",
    "nb_actions = env.action_space.n\n",
    "\n",
    "print(\"Numero de acciones disponibles: \" + str(nb_actions))\n",
    "print(\"Formato de las observaciones: \" + str(env.observation_space))"
   ]
  },
  {
   "cell_type": "code",
   "execution_count": 6,
   "metadata": {
    "id": "9jGEZUcpGb2a"
   },
   "outputs": [],
   "source": [
    "class AtariProcessor(Processor):\n",
    "    def process_observation(self, observation):\n",
    "        assert observation.ndim == 3  # (height, width, channel)\n",
    "        img = Image.fromarray(observation)\n",
    "        img = img.resize(INPUT_SHAPE).convert('L')\n",
    "        processed_observation = np.array(img)\n",
    "        assert processed_observation.shape == INPUT_SHAPE\n",
    "        return processed_observation.astype('uint8')\n",
    "\n",
    "    def process_state_batch(self, batch):\n",
    "        processed_batch = batch.astype('float32') / 255.\n",
    "        return processed_batch\n",
    "\n",
    "    def process_reward(self, reward):\n",
    "        return np.clip(reward, -1., 1.)"
   ]
  },
  {
   "cell_type": "markdown",
   "metadata": {
    "id": "7yitXTADGb2b"
   },
   "source": [
    "1. Implementación de la red neuronal"
   ]
  },
  {
   "cell_type": "code",
   "execution_count": 20,
   "metadata": {
    "id": "O4GKrfWSGb2b"
   },
   "outputs": [
    {
     "name": "stdout",
     "output_type": "stream",
     "text": [
      "Model: \"sequential_3\"\n",
      "_________________________________________________________________\n",
      "Layer (type)                 Output Shape              Param #   \n",
      "=================================================================\n",
      "flatten_3 (Flatten)          (None, 100800)            0         \n",
      "_________________________________________________________________\n",
      "dense_12 (Dense)             (None, 16)                1612816   \n",
      "_________________________________________________________________\n",
      "activation_12 (Activation)   (None, 16)                0         \n",
      "_________________________________________________________________\n",
      "dense_13 (Dense)             (None, 16)                272       \n",
      "_________________________________________________________________\n",
      "activation_13 (Activation)   (None, 16)                0         \n",
      "_________________________________________________________________\n",
      "dense_14 (Dense)             (None, 16)                272       \n",
      "_________________________________________________________________\n",
      "activation_14 (Activation)   (None, 16)                0         \n",
      "_________________________________________________________________\n",
      "dense_15 (Dense)             (None, 6)                 102       \n",
      "_________________________________________________________________\n",
      "activation_15 (Activation)   (None, 6)                 0         \n",
      "=================================================================\n",
      "Total params: 1,613,462\n",
      "Trainable params: 1,613,462\n",
      "Non-trainable params: 0\n",
      "_________________________________________________________________\n",
      "None\n"
     ]
    }
   ],
   "source": [
    "# modelo simple - no usar\n",
    "\n",
    "# model = Sequential()\n",
    "# model.add(Flatten(input_shape=(1,) + env.observation_space.shape))\n",
    "# model.add(Dense(16))\n",
    "# model.add(Activation('relu'))\n",
    "# model.add(Dense(16))\n",
    "# model.add(Activation('relu'))\n",
    "# model.add(Dense(16))\n",
    "# model.add(Activation('relu'))\n",
    "# model.add(Dense(nb_actions))\n",
    "# model.add(Activation('linear'))\n",
    "# print(model.summary())"
   ]
  },
  {
   "cell_type": "code",
   "execution_count": 7,
   "metadata": {},
   "outputs": [
    {
     "name": "stdout",
     "output_type": "stream",
     "text": [
      "channels_last\n",
      "(1, 84, 84)\n",
      "Model: \"sequential\"\n",
      "_________________________________________________________________\n",
      "Layer (type)                 Output Shape              Param #   \n",
      "=================================================================\n",
      "permute (Permute)            (None, 84, 84, 1)         0         \n",
      "_________________________________________________________________\n",
      "conv2d (Conv2D)              (None, 20, 20, 32)        2080      \n",
      "_________________________________________________________________\n",
      "activation (Activation)      (None, 20, 20, 32)        0         \n",
      "_________________________________________________________________\n",
      "conv2d_1 (Conv2D)            (None, 9, 9, 64)          32832     \n",
      "_________________________________________________________________\n",
      "activation_1 (Activation)    (None, 9, 9, 64)          0         \n",
      "_________________________________________________________________\n",
      "conv2d_2 (Conv2D)            (None, 7, 7, 64)          36928     \n",
      "_________________________________________________________________\n",
      "activation_2 (Activation)    (None, 7, 7, 64)          0         \n",
      "_________________________________________________________________\n",
      "flatten (Flatten)            (None, 3136)              0         \n",
      "_________________________________________________________________\n",
      "dense (Dense)                (None, 512)               1606144   \n",
      "_________________________________________________________________\n",
      "activation_3 (Activation)    (None, 512)               0         \n",
      "_________________________________________________________________\n",
      "dense_1 (Dense)              (None, 6)                 3078      \n",
      "_________________________________________________________________\n",
      "activation_4 (Activation)    (None, 6)                 0         \n",
      "=================================================================\n",
      "Total params: 1,681,062\n",
      "Trainable params: 1,681,062\n",
      "Non-trainable params: 0\n",
      "_________________________________________________________________\n",
      "None\n"
     ]
    }
   ],
   "source": [
    "# modelo mas complejo - usar este\n",
    "input_shape = (WINDOW_LENGTH,) + INPUT_SHAPE\n",
    "model = Sequential()\n",
    "print(K.image_data_format())\n",
    "print(input_shape)\n",
    "if K.image_data_format() == 'channels_last':\n",
    "    # (width, height, channels)\n",
    "    model.add(Permute((2, 3, 1), input_shape=input_shape))\n",
    "elif K.image_data_format() == 'channels_first':\n",
    "    # (channels, width, height)\n",
    "    model.add(Permute((1, 2, 3), input_shape=input_shape))\n",
    "else:\n",
    "    raise RuntimeError('Unknown image_dim_ordering.')\n",
    "\n",
    "model.add(Convolution2D(32, (8, 8), strides=(4, 4)))\n",
    "model.add(Activation('relu'))\n",
    "model.add(Convolution2D(64, (4, 4), strides=(2, 2)))\n",
    "model.add(Activation('relu'))\n",
    "model.add(Convolution2D(64, (3, 3), strides=(1, 1)))\n",
    "model.add(Activation('relu'))\n",
    "model.add(Flatten())\n",
    "model.add(Dense(512))\n",
    "model.add(Activation('relu'))\n",
    "model.add(Dense(nb_actions))\n",
    "model.add(Activation('linear'))\n",
    "print(model.summary())"
   ]
  },
  {
   "cell_type": "markdown",
   "metadata": {
    "id": "OB9-_5HPGb2b"
   },
   "source": [
    "2. Implementación de la solución DQN"
   ]
  },
  {
   "cell_type": "code",
   "execution_count": 8,
   "metadata": {
    "id": "foSlxWH1Gb2b"
   },
   "outputs": [],
   "source": [
    "# memoria para almacenar la experiencia del agente\n",
    "memory = SequentialMemory(limit=500, window_length=1)\n",
    "\n",
    "# processor\n",
    "processor = AtariProcessor()\n",
    "\n",
    "# policy que el agente va a seguir\n",
    "#policy = BoltzmannQPolicy()\n",
    "policy = LinearAnnealedPolicy(EpsGreedyQPolicy(), attr='eps',\n",
    "                              value_max=1., value_min=.1, value_test=.05,\n",
    "                              nb_steps=100)\n",
    "\n",
    "# definicion del agente\n",
    "dqn = DQNAgent(model=model, nb_actions=nb_actions, policy=policy,\n",
    "               memory=memory, processor=processor,\n",
    "               nb_steps_warmup=500, gamma=.99,\n",
    "               target_model_update=100,\n",
    "               train_interval=4)\n",
    "\n",
    "# compilacion del agente\n",
    "dqn.compile(Adam(learning_rate=.00025), metrics=['mae'])"
   ]
  },
  {
   "cell_type": "code",
   "execution_count": 9,
   "metadata": {},
   "outputs": [
    {
     "name": "stdout",
     "output_type": "stream",
     "text": [
      "Training for 1500 steps ...\n",
      "Interval 1 (0 steps performed)\n",
      " 12/100 [==>...........................] - ETA: 0s - reward: 0.0000e+00 "
     ]
    },
    {
     "name": "stderr",
     "output_type": "stream",
     "text": [
      "C:\\Users\\pablo_maiolo\\anaconda3\\envs\\miar_rl_3\\lib\\site-packages\\tensorflow\\python\\keras\\engine\\training.py:2424: UserWarning: `Model.state_updates` will be removed in a future version. This property should not be used in TensorFlow 2.0, as `updates` are applied automatically.\n",
      "  warnings.warn('`Model.state_updates` will be removed in a future version. '\n"
     ]
    },
    {
     "name": "stdout",
     "output_type": "stream",
     "text": [
      "100/100 [==============================] - 1s 4ms/step - reward: 0.0200\n",
      "Interval 2 (100 steps performed)\n",
      "100/100 [==============================] - 0s 4ms/step - reward: 0.0300\n",
      "Interval 3 (200 steps performed)\n",
      "100/100 [==============================] - 0s 4ms/step - reward: 0.0100\n",
      "Interval 4 (300 steps performed)\n",
      "100/100 [==============================] - 0s 4ms/step - reward: 0.0000e+00\n",
      "Interval 5 (400 steps performed)\n",
      "100/100 [==============================] - 0s 4ms/step - reward: 0.0100\n",
      "Interval 6 (500 steps performed)\n",
      "100/100 [==============================] - 3s 30ms/step - reward: 0.0000e+00\n",
      "Interval 7 (600 steps performed)\n",
      "100/100 [==============================] - 2s 23ms/step - reward: 0.0000e+00\n",
      "Interval 8 (700 steps performed)\n",
      "100/100 [==============================] - 2s 23ms/step - reward: 0.0300\n",
      "Interval 9 (800 steps performed)\n",
      "100/100 [==============================] - 2s 22ms/step - reward: 0.0100\n",
      "Interval 10 (900 steps performed)\n",
      "100/100 [==============================] - 2s 23ms/step - reward: 0.0100\n",
      "1 episodes - episode_reward: 12.000 [12.000, 12.000] - loss: 0.003 - mae: 0.049 - mean_q: 0.090 - mean_eps: 0.100 - ale.lives: 1.510\n",
      "\n",
      "Interval 11 (1000 steps performed)\n",
      "100/100 [==============================] - 2s 22ms/step - reward: 0.0000e+00\n",
      "Interval 12 (1100 steps performed)\n",
      "100/100 [==============================] - 2s 22ms/step - reward: 0.0300\n",
      "Interval 13 (1200 steps performed)\n",
      "100/100 [==============================] - 2s 23ms/step - reward: 0.0100\n",
      "Interval 14 (1300 steps performed)\n",
      "100/100 [==============================] - 2s 22ms/step - reward: 0.0100\n",
      "Interval 15 (1400 steps performed)\n",
      "100/100 [==============================] - 2s 22ms/step - reward: 0.0500\n",
      "done, took 26.048 seconds\n"
     ]
    }
   ],
   "source": [
    "# entrenamiento del agente\n",
    "weights_filename = 'apr_g9_dqn_{}_weights.h5f'.format(env_name)\n",
    "checkpoint_weights_filename = 'apr_g9_dqn_' + env_name + '_weights_{step}.h5f'\n",
    "log_filename = 'apr_g9_dqn_{}_log.json'.format(env_name)\n",
    "callbacks = [ModelIntervalCheckpoint(checkpoint_weights_filename, interval=2500)]\n",
    "callbacks += [FileLogger(log_filename, interval=10)]\n",
    "dqn.fit(env, callbacks=callbacks, nb_steps=1500, log_interval=100, visualize=False)\n",
    "\n",
    "# se graban los pesos finales luego de finalizar el entrenamiento\n",
    "dqn.save_weights('apr_g9_dqn_{}_weights.h5f'.format(env_name), overwrite=True)"
   ]
  },
  {
   "cell_type": "code",
   "execution_count": 10,
   "metadata": {
    "id": "OHYryKd1Gb2b"
   },
   "outputs": [
    {
     "name": "stdout",
     "output_type": "stream",
     "text": [
      "Testing for 10 episodes ...\n",
      "Episode 1: reward: 17.000, steps: 962\n",
      "Episode 2: reward: 17.000, steps: 967\n",
      "Episode 3: reward: 17.000, steps: 967\n",
      "Episode 4: reward: 17.000, steps: 967\n",
      "Episode 5: reward: 17.000, steps: 978\n",
      "Episode 6: reward: 17.000, steps: 971\n",
      "Episode 7: reward: 17.000, steps: 982\n",
      "Episode 8: reward: 17.000, steps: 951\n",
      "Episode 9: reward: 17.000, steps: 979\n",
      "Episode 10: reward: 17.000, steps: 969\n"
     ]
    },
    {
     "data": {
      "text/plain": [
       "<tensorflow.python.keras.callbacks.History at 0x1ab00a12d90>"
      ]
     },
     "execution_count": 10,
     "metadata": {},
     "output_type": "execute_result"
    }
   ],
   "source": [
    "# test de n episodios para calcular la recompensa final\n",
    "weights_filename = 'apr_g9_dqn_{}_weights.h5f'.format(env_name)\n",
    "dqn.load_weights(weights_filename)\n",
    "dqn.test(env, nb_episodes=10, visualize=True)"
   ]
  },
  {
   "cell_type": "markdown",
   "metadata": {
    "id": "-NAlu8b1Gb2b"
   },
   "source": [
    "3. Justificación de los parámetros seleccionados y de los resultados obtenidos"
   ]
  },
  {
   "cell_type": "markdown",
   "metadata": {
    "id": "ANFQiicXK3sO"
   },
   "source": [
    "---"
   ]
  }
 ],
 "metadata": {
  "colab": {
   "provenance": []
  },
  "kernelspec": {
   "display_name": "Python 3 (ipykernel)",
   "language": "python",
   "name": "python3"
  },
  "language_info": {
   "codemirror_mode": {
    "name": "ipython",
    "version": 3
   },
   "file_extension": ".py",
   "mimetype": "text/x-python",
   "name": "python",
   "nbconvert_exporter": "python",
   "pygments_lexer": "ipython3",
   "version": "3.8.20"
  }
 },
 "nbformat": 4,
 "nbformat_minor": 4
}
