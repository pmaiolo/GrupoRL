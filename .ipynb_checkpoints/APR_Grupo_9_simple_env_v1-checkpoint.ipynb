{
 "cells": [
  {
   "cell_type": "markdown",
   "metadata": {
    "id": "jUehXgCyIRdq"
   },
   "source": [
    "# Actividad - Proyecto práctico\n",
    "\n",
    "\n",
    "> La actividad se desarrollará en grupos pre-definidos de 2-3 alumnos. Se debe indicar los nombres en orden alfabético (de apellidos). Recordad que esta actividad se corresponde con un 30% de la nota final de la asignatura. Se debe entregar entregar el trabajo en la presente notebook.\n",
    "*   Alumno 1: Granizo, Mateo\n",
    "*   Alumno 2: Maiolo, Pablo\n",
    "*   Alumno 3: Miglino, Diego\n",
    "\n",
    "\n",
    "\n",
    "\n"
   ]
  },
  {
   "cell_type": "markdown",
   "metadata": {
    "id": "JwpYlnjWJhS9"
   },
   "source": [
    "---\n",
    "## **PARTE 1** - Instalación y requisitos previos\n",
    "\n",
    "> Las prácticas han sido preparadas para poder realizarse en el entorno de trabajo de Google Colab. Sin embargo, esta plataforma presenta ciertas incompatibilidades a la hora de visualizar la renderización en gym. Por ello, para obtener estas visualizaciones, se deberá trasladar el entorno de trabajo a local. Por ello, el presente dosier presenta instrucciones para poder trabajar en ambos entornos. Siga los siguientes pasos para un correcto funcionamiento:\n",
    "1.   **LOCAL:** Preparar el enviroment, siguiendo las intrucciones detalladas en la sección *1.1.Preparar enviroment*.\n",
    "2.  **AMBOS:** Modificar las variables \"mount\" y \"drive_mount\" a la carpeta de trabajo en drive en el caso de estar en Colab, y ejecturar la celda *1.2.Localizar entorno de trabajo*.\n",
    "3. **COLAB:** se deberá ejecutar las celdas correspondientes al montaje de la carpeta de trabajo en Drive. Esta corresponde a la sección *1.3.Montar carpeta de datos local*.\n",
    "4.  **AMBOS:** Instalar las librerías necesarias, siguiendo la sección *1.4.Instalar librerías necesarias*.\n"
   ]
  },
  {
   "cell_type": "markdown",
   "metadata": {
    "id": "RU2BPrK2JkP0"
   },
   "source": [
    "---\n",
    "### 1.1. Preparar enviroment (solo local)\n",
    "\n",
    "\n",
    "\n",
    "> Para preparar el entorno de trabajo en local, se han seguido los siguientes pasos:\n",
    "1. En Windows, puede ser necesario instalar las C++ Build Tools. Para ello, siga los siguientes pasos: https://towardsdatascience.com/how-to-install-openai-gym-in-a-windows-environment-338969e24d30.\n",
    "2. Instalar Anaconda\n",
    "3. Siguiendo el código que se presenta comentado en la próxima celda: Crear un enviroment, cambiar la ruta de trabajo, e instalar librerías básicas.\n",
    "\n",
    "\n",
    "```\n",
    "conda create --name miar_rl python=3.8\n",
    "conda activate miar_rl\n",
    "cd \"PATH_TO_FOLDER\"\n",
    "conda install git\n",
    "conda install -c conda-forge notebook\n",
    "```\n",
    "\n",
    "\n",
    "4. Abrir la notebook con *jupyter-notebook*.\n",
    "\n",
    "\n",
    "\n",
    "```\n",
    "jupyter-notebook\n",
    "```\n"
   ]
  },
  {
   "cell_type": "markdown",
   "metadata": {
    "id": "w-kixNPiJqTc"
   },
   "source": [
    "---\n",
    "### 1.2. Localizar entorno de trabajo: Google colab o local"
   ]
  },
  {
   "cell_type": "code",
   "execution_count": 1,
   "metadata": {
    "colab": {
     "base_uri": "https://localhost:8080/"
    },
    "id": "S_YDFwZ-JscI",
    "outputId": "01a99aa0-3d4e-4cd1-b1bc-309aef65070a"
   },
   "outputs": [
    {
     "name": "stdout",
     "output_type": "stream",
     "text": [
      "False\n"
     ]
    }
   ],
   "source": [
    "# ATENCIÓN!! Modificar ruta relativa a la práctica si es distinta (drive_root)\n",
    "mount='/content/gdrive'\n",
    "drive_root = mount + \"/My Drive/08_MIAR/actividades/TP_Grupal\"\n",
    "mount='./'\n",
    "\n",
    "try:\n",
    "  from google.colab import drive\n",
    "  IN_COLAB=True\n",
    "except:\n",
    "  IN_COLAB=False\n",
    "print(IN_COLAB)"
   ]
  },
  {
   "cell_type": "markdown",
   "metadata": {
    "id": "8Dp_a1iBJ0tf"
   },
   "source": [
    "---\n",
    "### 1.3. Montar carpeta de datos local (solo Colab)"
   ]
  },
  {
   "cell_type": "code",
   "execution_count": 2,
   "metadata": {
    "colab": {
     "base_uri": "https://localhost:8080/"
    },
    "id": "I6n7MIefJ21i",
    "outputId": "9a6fc610-9fb0-4f63-8562-46754d7d75fc"
   },
   "outputs": [
    {
     "name": "stdout",
     "output_type": "stream",
     "text": [
      "Archivos en el directorio: \n",
      "['.ipynb_checkpoints', 'apr_g9_dqn_SpaceInvaders-v0_log.json', 'apr_g9_dqn_SpaceInvaders-v0_weights.h5f.data-00000-of-00001', 'apr_g9_dqn_SpaceInvaders-v0_weights.h5f.index', 'APR_Grupo_9.ipynb', 'APR_Grupo_9_simple_env.ipynb', 'checkpoint', 'dqn_SpaceInvaders-v0_log.json', 'dqn_SpaceInvaders-v0_weights.h5f.data-00000-of-00001', 'dqn_SpaceInvaders-v0_weights.h5f.index', 'dqn_SpaceInvaders-v0_weights_10000.h5f.data-00000-of-00001', 'dqn_SpaceInvaders-v0_weights_10000.h5f.index', 'dqn_SpaceInvaders-v0_weights_100000.h5f.data-00000-of-00001', 'dqn_SpaceInvaders-v0_weights_100000.h5f.index', 'dqn_SpaceInvaders-v0_weights_110000.h5f.data-00000-of-00001', 'dqn_SpaceInvaders-v0_weights_110000.h5f.index', 'dqn_SpaceInvaders-v0_weights_120000.h5f.data-00000-of-00001', 'dqn_SpaceInvaders-v0_weights_120000.h5f.index', 'dqn_SpaceInvaders-v0_weights_130000.h5f.data-00000-of-00001', 'dqn_SpaceInvaders-v0_weights_130000.h5f.index', 'dqn_SpaceInvaders-v0_weights_140000.h5f.data-00000-of-00001', 'dqn_SpaceInvaders-v0_weights_140000.h5f.index', 'dqn_SpaceInvaders-v0_weights_150000.h5f.data-00000-of-00001', 'dqn_SpaceInvaders-v0_weights_150000.h5f.index', 'dqn_SpaceInvaders-v0_weights_160000.h5f.data-00000-of-00001', 'dqn_SpaceInvaders-v0_weights_160000.h5f.index', 'dqn_SpaceInvaders-v0_weights_170000.h5f.data-00000-of-00001', 'dqn_SpaceInvaders-v0_weights_170000.h5f.index', 'dqn_SpaceInvaders-v0_weights_180000.h5f.data-00000-of-00001', 'dqn_SpaceInvaders-v0_weights_180000.h5f.index', 'dqn_SpaceInvaders-v0_weights_190000.h5f.data-00000-of-00001', 'dqn_SpaceInvaders-v0_weights_190000.h5f.index', 'dqn_SpaceInvaders-v0_weights_20000.h5f.data-00000-of-00001', 'dqn_SpaceInvaders-v0_weights_20000.h5f.index', 'dqn_SpaceInvaders-v0_weights_200000.h5f.data-00000-of-00001', 'dqn_SpaceInvaders-v0_weights_200000.h5f.index', 'dqn_SpaceInvaders-v0_weights_30000.h5f.data-00000-of-00001', 'dqn_SpaceInvaders-v0_weights_30000.h5f.index', 'dqn_SpaceInvaders-v0_weights_40000.h5f.data-00000-of-00001', 'dqn_SpaceInvaders-v0_weights_40000.h5f.index', 'dqn_SpaceInvaders-v0_weights_50000.h5f.data-00000-of-00001', 'dqn_SpaceInvaders-v0_weights_50000.h5f.index', 'dqn_SpaceInvaders-v0_weights_60000.h5f.data-00000-of-00001', 'dqn_SpaceInvaders-v0_weights_60000.h5f.index', 'dqn_SpaceInvaders-v0_weights_70000.h5f.data-00000-of-00001', 'dqn_SpaceInvaders-v0_weights_70000.h5f.index', 'dqn_SpaceInvaders-v0_weights_80000.h5f.data-00000-of-00001', 'dqn_SpaceInvaders-v0_weights_80000.h5f.index', 'dqn_SpaceInvaders-v0_weights_90000.h5f.data-00000-of-00001', 'dqn_SpaceInvaders-v0_weights_90000.h5f.index', 'requirements.txt']\n"
     ]
    }
   ],
   "source": [
    "# Switch to the directory on the Google Drive that you want to use\n",
    "import os\n",
    "if IN_COLAB:\n",
    "  print(\"We're running Colab\")\n",
    "\n",
    "  if IN_COLAB:\n",
    "    # Mount the Google Drive at mount\n",
    "    print(\"Colab: mounting Google drive on \", mount)\n",
    "\n",
    "    drive.mount(mount)\n",
    "\n",
    "    # Create drive_root if it doesn't exist\n",
    "    create_drive_root = True\n",
    "    if create_drive_root:\n",
    "      print(\"\\nColab: making sure \", drive_root, \" exists.\")\n",
    "      os.makedirs(drive_root, exist_ok=True)\n",
    "\n",
    "    # Change to the directory\n",
    "    print(\"\\nColab: Changing directory to \", drive_root)\n",
    "    %cd $drive_root\n",
    "# Verify we're in the correct working directory\n",
    "%pwd\n",
    "print(\"Archivos en el directorio: \")\n",
    "print(os.listdir())"
   ]
  },
  {
   "cell_type": "markdown",
   "metadata": {
    "id": "i1ZSL5bpJ560"
   },
   "source": [
    "---\n",
    "### 1.4. Instalar librerías necesarias"
   ]
  },
  {
   "cell_type": "code",
   "execution_count": 3,
   "metadata": {
    "colab": {
     "base_uri": "https://localhost:8080/",
     "height": 1000
    },
    "id": "UbVRjvHCJ8UF",
    "outputId": "fe539761-ae1b-4e9f-95de-9a3cfa9ae8bc"
   },
   "outputs": [],
   "source": [
    "# ejecutar solo la primera vez..\n",
    "\n",
    "#  %pip install -r requirements.txt"
   ]
  },
  {
   "cell_type": "markdown",
   "metadata": {
    "id": "4hzP_5ZuGb2X"
   },
   "source": [
    "---\n",
    "## **PARTE 2**. Enunciado\n",
    "\n",
    "Consideraciones a tener en cuenta:\n",
    "\n",
    "- El entorno sobre el que trabajaremos será _SpaceInvaders-v0_ y el algoritmo que usaremos será _DQN_.\n",
    "\n",
    "- Para nuestro ejercicio, el requisito mínimo será alcanzado cuando el agente consiga una **media de recompensa por encima de 20 puntos en modo test**. Por ello, esta media de la recompensa se calculará a partir del código de test en la última celda del notebook.\n",
    "\n",
    "Este proyecto práctico consta de tres partes:\n",
    "\n",
    "1.   Implementar la red neuronal que se usará en la solución\n",
    "2.   Implementar las distintas piezas de la solución DQN\n",
    "3.   Justificar la respuesta en relación a los resultados obtenidos\n",
    "\n",
    "**Rúbrica**: Se valorará la originalidad en la solución aportada, así como la capacidad de discutir los resultados de forma detallada. El requisito mínimo servirá para aprobar la actividad, bajo premisa de que la discusión del resultado sera apropiada.\n",
    "\n",
    "IMPORTANTE:\n",
    "\n",
    "* Si no se consigue una puntuación óptima, responder sobre la mejor puntuación obtenida.\n",
    "* Para entrenamientos largos, recordad que podéis usar checkpoints de vuestros modelos para retomar los entrenamientos. En este caso, recordad cambiar los parámetros adecuadamente (sobre todo los relacionados con el proceso de exploración).\n",
    "* Se deberá entregar unicamente el notebook y los pesos del mejor modelo en un fichero .zip, de forma organizada.\n",
    "* Cada alumno deberá de subir la solución de forma individual."
   ]
  },
  {
   "cell_type": "markdown",
   "metadata": {
    "id": "6_b3mzw8IzJP"
   },
   "source": [
    "---\n",
    "## **PARTE 3**. Desarrollo y preguntas"
   ]
  },
  {
   "cell_type": "markdown",
   "metadata": {
    "id": "duPmUNOVGb2a"
   },
   "source": [
    "#### Importar librerías"
   ]
  },
  {
   "cell_type": "code",
   "execution_count": 3,
   "metadata": {
    "id": "j3eRhgI-Gb2a"
   },
   "outputs": [
    {
     "name": "stderr",
     "output_type": "stream",
     "text": [
      "C:\\Users\\pablo_maiolo\\anaconda3\\envs\\miar_rl_3\\lib\\site-packages\\requests\\__init__.py:86: RequestsDependencyWarning: Unable to find acceptable character detection dependency (chardet or charset_normalizer).\n",
      "  warnings.warn(\n"
     ]
    }
   ],
   "source": [
    "from __future__ import division\n",
    "import numpy as np\n",
    "import gym\n",
    "import tensorflow as tf\n",
    "from PIL import Image\n",
    "\n",
    "from tensorflow.keras.models import Sequential\n",
    "from tensorflow.keras.layers import Dense, Activation, Flatten, Conv2D, Permute\n",
    "from tensorflow.keras.optimizers import Adam\n",
    "import tensorflow.keras.backend as K\n",
    "\n",
    "from rl.agents.dqn import DQNAgent\n",
    "from rl.policy import LinearAnnealedPolicy, BoltzmannQPolicy, EpsGreedyQPolicy\n",
    "from rl.memory import SequentialMemory\n",
    "from rl.callbacks import FileLogger, ModelIntervalCheckpoint, Callback\n",
    "from rl.core import Processor"
   ]
  },
  {
   "cell_type": "markdown",
   "metadata": {
    "id": "f4jgQjzoGb2a"
   },
   "source": [
    "#### Configuración base"
   ]
  },
  {
   "cell_type": "code",
   "execution_count": 4,
   "metadata": {
    "colab": {
     "base_uri": "https://localhost:8080/"
    },
    "id": "jwOE6I_KGb2a",
    "outputId": "941f9c3a-e542-42e6-bd55-a097f9b71828"
   },
   "outputs": [
    {
     "name": "stdout",
     "output_type": "stream",
     "text": [
      "Numero de acciones disponibles: 6\n",
      "Formato de las observaciones: Box(0, 255, (210, 160, 3), uint8)\n"
     ]
    }
   ],
   "source": [
    "# Usamos SpaceInvaders-v0\n",
    "INPUT_SHAPE = (84, 84)\n",
    "WINDOW_LENGTH = 4\n",
    "env_name = 'SpaceInvaders-v0'\n",
    "env = gym.make(env_name)\n",
    "\n",
    "np.random.seed(123)\n",
    "env.seed(123)\n",
    "nb_actions = env.action_space.n\n",
    "\n",
    "print(\"Numero de acciones disponibles: \" + str(nb_actions))\n",
    "print(\"Formato de las observaciones: \" + str(env.observation_space))"
   ]
  },
  {
   "cell_type": "code",
   "execution_count": 5,
   "metadata": {
    "id": "9jGEZUcpGb2a"
   },
   "outputs": [],
   "source": [
    "class AtariProcessor(Processor):\n",
    "    def process_observation(self, observation):\n",
    "        assert observation.ndim == 3  # (height, width, channel)\n",
    "        img = Image.fromarray(observation)\n",
    "        img = img.resize(INPUT_SHAPE).convert('L')  # Convertir a escala de grises\n",
    "        processed_observation = np.array(img)\n",
    "        assert processed_observation.shape == INPUT_SHAPE\n",
    "        return processed_observation.astype('uint8')  # Guardar como uint8 para ahorrar memoria\n",
    "\n",
    "    def process_state_batch(self, batch):\n",
    "        processed_batch = batch.astype('float32') / 255.  # Normalizar a [0, 1]\n",
    "        return processed_batch\n",
    "\n",
    "    def process_reward(self, reward):\n",
    "        return np.clip(reward, -1., 1.)  # Recortar recompensas para estabilizar el aprendizaje"
   ]
  },
  {
   "cell_type": "markdown",
   "metadata": {
    "id": "7yitXTADGb2b"
   },
   "source": [
    "1. Implementación de la red neuronal"
   ]
  },
  {
   "cell_type": "code",
   "execution_count": 6,
   "metadata": {
    "id": "O4GKrfWSGb2b"
   },
   "outputs": [
    {
     "name": "stdout",
     "output_type": "stream",
     "text": [
      "Model: \"sequential\"\n",
      "_________________________________________________________________\n",
      "Layer (type)                 Output Shape              Param #   \n",
      "=================================================================\n",
      "permute (Permute)            (None, 84, 84, 4)         0         \n",
      "_________________________________________________________________\n",
      "conv2d (Conv2D)              (None, 20, 20, 32)        8224      \n",
      "_________________________________________________________________\n",
      "conv2d_1 (Conv2D)            (None, 9, 9, 64)          32832     \n",
      "_________________________________________________________________\n",
      "conv2d_2 (Conv2D)            (None, 7, 7, 64)          36928     \n",
      "_________________________________________________________________\n",
      "flatten (Flatten)            (None, 3136)              0         \n",
      "_________________________________________________________________\n",
      "dense (Dense)                (None, 512)               1606144   \n",
      "_________________________________________________________________\n",
      "dense_1 (Dense)              (None, 6)                 3078      \n",
      "=================================================================\n",
      "Total params: 1,687,206\n",
      "Trainable params: 1,687,206\n",
      "Non-trainable params: 0\n",
      "_________________________________________________________________\n",
      "None\n"
     ]
    }
   ],
   "source": [
    "# Modelo CNN para DQN\n",
    "input_shape = (WINDOW_LENGTH,) + INPUT_SHAPE\n",
    "model = Sequential()\n",
    "if K.image_data_format() == 'channels_last':\n",
    "    model.add(Permute((2, 3, 1), input_shape=input_shape))\n",
    "elif K.image_data_format() == 'channels_first':\n",
    "    model.add(Permute((1, 2, 3), input_shape=input_shape))\n",
    "else:\n",
    "    raise RuntimeError('Unknown image_dim_ordering.')\n",
    "model.add(Conv2D(32, (8, 8), strides=(4, 4), activation='relu'))\n",
    "model.add(Conv2D(64, (4, 4), strides=(2, 2), activation='relu'))\n",
    "model.add(Conv2D(64, (3, 3), strides=(1, 1), activation='relu'))\n",
    "model.add(Flatten())\n",
    "model.add(Dense(512, activation='relu'))\n",
    "model.add(Dense(nb_actions, activation='linear'))\n",
    "print(model.summary())"
   ]
  },
  {
   "cell_type": "markdown",
   "metadata": {
    "id": "OB9-_5HPGb2b"
   },
   "source": [
    "2. Implementación de la solución DQN"
   ]
  },
  {
   "cell_type": "code",
   "execution_count": 7,
   "metadata": {
    "id": "foSlxWH1Gb2b"
   },
   "outputs": [],
   "source": [
    "# Configuración del agente DQN\n",
    "memory = SequentialMemory(limit=100000, window_length=WINDOW_LENGTH)\n",
    "processor = AtariProcessor()\n",
    "policy = LinearAnnealedPolicy(EpsGreedyQPolicy(), attr='eps',\n",
    "                              value_max=1.0, value_min=0.1, value_test=0.01,\n",
    "                              nb_steps=100000)\n",
    "\n",
    "dqn = DQNAgent(model=model, nb_actions=nb_actions, policy=policy,\n",
    "               memory=memory, processor=processor,\n",
    "               nb_steps_warmup=10000, gamma=0.99, train_interval=4, delta_clip=1.0)\n",
    "dqn.compile(Adam(learning_rate=1e-4), metrics=['mae'])"
   ]
  },
  {
   "cell_type": "code",
   "execution_count": 8,
   "metadata": {},
   "outputs": [
    {
     "name": "stdout",
     "output_type": "stream",
     "text": [
      "Training for 200000 steps ...\n",
      "Interval 1 (0 steps performed)\n",
      "   10/10000 [..............................] - ETA: 59s - reward: 0.0000e+00  "
     ]
    },
    {
     "name": "stderr",
     "output_type": "stream",
     "text": [
      "C:\\Users\\pablo_maiolo\\anaconda3\\envs\\miar_rl_3\\lib\\site-packages\\tensorflow\\python\\keras\\engine\\training.py:2424: UserWarning: `Model.state_updates` will be removed in a future version. This property should not be used in TensorFlow 2.0, as `updates` are applied automatically.\n",
      "  warnings.warn('`Model.state_updates` will be removed in a future version. '\n"
     ]
    },
    {
     "name": "stdout",
     "output_type": "stream",
     "text": [
      "10000/10000 [==============================] - 48s 5ms/step - reward: 0.0141\n",
      "14 episodes - episode_reward: 9.786 [6.000, 23.000] - ale.lives: 2.085\n",
      "\n",
      "Interval 2 (10000 steps performed)\n",
      "10000/10000 [==============================] - 420s 42ms/step - reward: 0.0132\n",
      "16 episodes - episode_reward: 7.438 [4.000, 12.000] - loss: 0.007 - mae: 0.042 - mean_q: 0.068 - mean_eps: 0.865 - ale.lives: 2.132\n",
      "\n",
      "Interval 3 (20000 steps performed)\n",
      "10000/10000 [==============================] - 403s 40ms/step - reward: 0.0152\n",
      "14 episodes - episode_reward: 11.643 [5.000, 22.000] - loss: 0.007 - mae: 0.087 - mean_q: 0.126 - mean_eps: 0.775 - ale.lives: 2.059\n",
      "\n",
      "Interval 4 (30000 steps performed)\n",
      "10000/10000 [==============================] - 395s 39ms/step - reward: 0.0169\n",
      "13 episodes - episode_reward: 13.154 [2.000, 29.000] - loss: 0.007 - mae: 0.122 - mean_q: 0.171 - mean_eps: 0.685 - ale.lives: 2.020\n",
      "\n",
      "Interval 5 (40000 steps performed)\n",
      "10000/10000 [==============================] - 383s 38ms/step - reward: 0.0151\n",
      "14 episodes - episode_reward: 10.286 [3.000, 22.000] - loss: 0.007 - mae: 0.168 - mean_q: 0.227 - mean_eps: 0.595 - ale.lives: 2.066\n",
      "\n",
      "Interval 6 (50000 steps performed)\n",
      "10000/10000 [==============================] - 392s 39ms/step - reward: 0.0158\n",
      "14 episodes - episode_reward: 11.929 [4.000, 25.000] - loss: 0.007 - mae: 0.206 - mean_q: 0.275 - mean_eps: 0.505 - ale.lives: 1.930\n",
      "\n",
      "Interval 7 (60000 steps performed)\n",
      "10000/10000 [==============================] - 387s 39ms/step - reward: 0.0159\n",
      "13 episodes - episode_reward: 12.231 [5.000, 24.000] - loss: 0.007 - mae: 0.252 - mean_q: 0.329 - mean_eps: 0.415 - ale.lives: 2.004\n",
      "\n",
      "Interval 8 (70000 steps performed)\n",
      "10000/10000 [==============================] - 393s 39ms/step - reward: 0.0165\n",
      "12 episodes - episode_reward: 12.417 [3.000, 18.000] - loss: 0.008 - mae: 0.313 - mean_q: 0.404 - mean_eps: 0.325 - ale.lives: 2.011\n",
      "\n",
      "Interval 9 (80000 steps performed)\n",
      "10000/10000 [==============================] - 393s 39ms/step - reward: 0.0139\n",
      "16 episodes - episode_reward: 9.812 [1.000, 22.000] - loss: 0.008 - mae: 0.354 - mean_q: 0.454 - mean_eps: 0.235 - ale.lives: 2.068\n",
      "\n",
      "Interval 10 (90000 steps performed)\n",
      "10000/10000 [==============================] - 389s 39ms/step - reward: 0.0166\n",
      "11 episodes - episode_reward: 14.273 [8.000, 33.000] - loss: 0.008 - mae: 0.374 - mean_q: 0.477 - mean_eps: 0.145 - ale.lives: 2.049\n",
      "\n",
      "Interval 11 (100000 steps performed)\n",
      "10000/10000 [==============================] - 392s 39ms/step - reward: 0.0162\n",
      "15 episodes - episode_reward: 10.333 [5.000, 20.000] - loss: 0.008 - mae: 0.387 - mean_q: 0.493 - mean_eps: 0.100 - ale.lives: 2.081\n",
      "\n",
      "Interval 12 (110000 steps performed)\n",
      "10000/10000 [==============================] - 392s 39ms/step - reward: 0.0164\n",
      "12 episodes - episode_reward: 15.000 [4.000, 26.000] - loss: 0.009 - mae: 0.420 - mean_q: 0.533 - mean_eps: 0.100 - ale.lives: 2.132\n",
      "\n",
      "Interval 13 (120000 steps performed)\n",
      "10000/10000 [==============================] - 391s 39ms/step - reward: 0.0170\n",
      "13 episodes - episode_reward: 11.846 [6.000, 25.000] - loss: 0.009 - mae: 0.460 - mean_q: 0.581 - mean_eps: 0.100 - ale.lives: 2.062\n",
      "\n",
      "Interval 14 (130000 steps performed)\n",
      "10000/10000 [==============================] - 391s 39ms/step - reward: 0.0159\n",
      "11 episodes - episode_reward: 15.182 [7.000, 28.000] - loss: 0.009 - mae: 0.498 - mean_q: 0.626 - mean_eps: 0.100 - ale.lives: 2.106\n",
      "\n",
      "Interval 15 (140000 steps performed)\n",
      "10000/10000 [==============================] - 388s 39ms/step - reward: 0.0160\n",
      "13 episodes - episode_reward: 12.462 [7.000, 25.000] - loss: 0.009 - mae: 0.529 - mean_q: 0.664 - mean_eps: 0.100 - ale.lives: 2.105\n",
      "\n",
      "Interval 16 (150000 steps performed)\n",
      "10000/10000 [==============================] - 391s 39ms/step - reward: 0.0147\n",
      "14 episodes - episode_reward: 10.500 [7.000, 18.000] - loss: 0.009 - mae: 0.541 - mean_q: 0.677 - mean_eps: 0.100 - ale.lives: 2.212\n",
      "\n",
      "Interval 17 (160000 steps performed)\n",
      "10000/10000 [==============================] - 389s 39ms/step - reward: 0.0146\n",
      "14 episodes - episode_reward: 10.643 [3.000, 21.000] - loss: 0.009 - mae: 0.561 - mean_q: 0.699 - mean_eps: 0.100 - ale.lives: 1.979\n",
      "\n",
      "Interval 18 (170000 steps performed)\n",
      "10000/10000 [==============================] - 392s 39ms/step - reward: 0.0158\n",
      "13 episodes - episode_reward: 11.077 [5.000, 28.000] - loss: 0.009 - mae: 0.597 - mean_q: 0.743 - mean_eps: 0.100 - ale.lives: 2.140\n",
      "\n",
      "Interval 19 (180000 steps performed)\n",
      "10000/10000 [==============================] - 401s 40ms/step - reward: 0.0156\n",
      "15 episodes - episode_reward: 11.533 [6.000, 19.000] - loss: 0.009 - mae: 0.622 - mean_q: 0.774 - mean_eps: 0.100 - ale.lives: 2.213\n",
      "\n",
      "Interval 20 (190000 steps performed)\n",
      "10000/10000 [==============================] - 399s 40ms/step - reward: 0.0166\n",
      "done, took 7528.985 seconds\n"
     ]
    }
   ],
   "source": [
    "# Entrenamiento del agente\n",
    "weights_filename = 'dqn_{}_weights.h5f'.format(env_name)\n",
    "checkpoint_weights_filename = 'dqn_' + env_name + '_weights_{step}.h5f'\n",
    "log_filename = 'dqn_{}_log.json'.format(env_name)\n",
    "callbacks = [ModelIntervalCheckpoint(checkpoint_weights_filename, interval=10000)]\n",
    "callbacks += [FileLogger(log_filename, interval=1000)]\n",
    "\n",
    "# Entrenamos por 200,000 pasos\n",
    "dqn.fit(env, callbacks=callbacks, nb_steps=200000, log_interval=10000, visualize=False)\n",
    "\n",
    "# Guardamos los pesos finales\n",
    "dqn.save_weights(weights_filename, overwrite=True)"
   ]
  },
  {
   "cell_type": "code",
   "execution_count": 11,
   "metadata": {
    "id": "OHYryKd1Gb2b"
   },
   "outputs": [
    {
     "name": "stdout",
     "output_type": "stream",
     "text": [
      "Testing for 10 episodes ...\n",
      "Episode 1: reward: 10.000, steps: 397\n",
      "Episode 2: reward: 33.000, steps: 1424\n",
      "Episode 3: reward: 19.000, steps: 880\n",
      "Episode 4: reward: 20.000, steps: 1005\n",
      "Episode 5: reward: 19.000, steps: 686\n",
      "Episode 6: reward: 17.000, steps: 1135\n",
      "Episode 7: reward: 24.000, steps: 908\n",
      "Episode 8: reward: 24.000, steps: 933\n",
      "Episode 9: reward: 10.000, steps: 390\n",
      "Episode 10: reward: 20.000, steps: 899\n"
     ]
    },
    {
     "data": {
      "text/plain": [
       "<tensorflow.python.keras.callbacks.History at 0x1d61e6a3e50>"
      ]
     },
     "execution_count": 11,
     "metadata": {},
     "output_type": "execute_result"
    }
   ],
   "source": [
    "# Test de n episodios para calcular la recompensa final\n",
    "weights_filename = 'dqn_{}_weights.h5f'.format(env_name)\n",
    "dqn.load_weights(weights_filename)\n",
    "dqn.test(env, nb_episodes=10, visualize=True)"
   ]
  },
  {
   "cell_type": "markdown",
   "metadata": {
    "id": "-NAlu8b1Gb2b"
   },
   "source": [
    "3. Justificación de los parámetros seleccionados y de los resultados obtenidos"
   ]
  },
  {
   "cell_type": "markdown",
   "metadata": {},
   "source": [
    "### Justificación de los parámetros seleccionados\n",
    "\n",
    "En esta implementación, se han realizado varias modificaciones importantes para mejorar el rendimiento del agente DQN en el entorno SpaceInvaders-v0:\n",
    "\n",
    "1. **Arquitectura de la red neuronal (CNN)**:\n",
    "   - Se ha utilizado una red neuronal convolucional (CNN) para capturar las características visuales del entorno SpaceInvaders-v0.\n",
    "   - La CNN consta de varias capas convolucionales, capas de pooling y capas fully connected.\n",
    "   - Esta arquitectura es más adecuada para entornos basados en imágenes que las redes neuronales densas utilizadas anteriormente.\n",
    "\n",
    "2. **Preprocesamiento de las imágenes (AtariProcessor)**:\n",
    "   - Se ha utilizado un procesador para preprocesar las imágenes del entorno antes de pasarlas a la red neuronal.\n",
    "   - El preprocesamiento incluye el cambio de tamaño de las imágenes, la conversión a escala de grises y la normalización de los valores de los píxeles.\n",
    "   - Esto ayuda a reducir la complejidad del problema y a mejorar la eficiencia del aprendizaje.\n",
    "\n",
    "3. **Aumento del tiempo de entrenamiento**:\n",
    "   - Se ha aumentado el tiempo de entrenamiento a 200,000 pasos para permitir que el agente aprenda una política más óptima.\n",
    "\n",
    "4. **Ajuste de los hiperparámetros**:\n",
    "    - Se ha ajustado la política de exploración, reduciendo el valor de `value_test` a 0.01 para reducir la exploración durante la fase de test.\n",
    "    - Se ha reducido la tasa de aprendizaje a 1e-4 para estabilizar el aprendizaje.\n",
    "\n",
    "### Resultados esperados\n",
    "\n",
    "Con estos parámetros, esperamos que el agente logre una puntuación media significativamente mayor en el modo test en el entorno SpaceInvaders-v0. La CNN debería permitir al agente aprender características visuales importantes del juego, lo que le permitirá tomar decisiones más informadas y obtener mejores resultados."
   ]
  },
  {
   "cell_type": "markdown",
   "metadata": {
    "id": "ANFQiicXK3sO"
   },
   "source": [
    "---"
   ]
  }
 ],
 "metadata": {
  "colab": {
   "provenance": []
  },
  "kernelspec": {
   "display_name": "Python (miar_rl_3)",
   "language": "python",
   "name": "miar_rl_3"
  },
  "language_info": {
   "codemirror_mode": {
    "name": "ipython",
    "version": 3
   },
   "file_extension": ".py",
   "mimetype": "text/x-python",
   "name": "python",
   "nbconvert_exporter": "python",
   "pygments_lexer": "ipython3",
   "version": "3.8.20"
  }
 },
 "nbformat": 4,
 "nbformat_minor": 4
}
